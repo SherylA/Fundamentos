{
 "cells": [
  {
   "cell_type": "markdown",
   "metadata": {},
   "source": [
    "# Ejercicios clase Semana 1"
   ]
  },
  {
   "cell_type": "code",
   "execution_count": 10,
   "metadata": {},
   "outputs": [
    {
     "data": {
      "text/html": [
       "<script>\n",
       "code_show=true; \n",
       "function code_toggle() {\n",
       " if (code_show){\n",
       " $('div.input').hide();\n",
       " } else {\n",
       " $('div.input').show();\n",
       " }\n",
       " code_show = !code_show\n",
       "} \n",
       "$( document ).ready(code_toggle);\n",
       "</script>\n",
       "<form action=\"javascript:code_toggle()\"><input type=\"submit\" value=\"Puede mirar el código python si tiene curiosidad.\"></form>"
      ],
      "text/plain": [
       "<IPython.core.display.HTML object>"
      ]
     },
     "execution_count": 10,
     "metadata": {},
     "output_type": "execute_result"
    }
   ],
   "source": [
    "from IPython.display import HTML\n",
    "\n",
    "HTML('''<script>\n",
    "code_show=true; \n",
    "function code_toggle() {\n",
    " if (code_show){\n",
    " $('div.input').hide();\n",
    " } else {\n",
    " $('div.input').show();\n",
    " }\n",
    " code_show = !code_show\n",
    "} \n",
    "$( document ).ready(code_toggle);\n",
    "</script>\n",
    "<form action=\"javascript:code_toggle()\"><input type=\"submit\" value=\"Puede mirar el código python si tiene curiosidad.\"></form>''')"
   ]
  },
  {
   "cell_type": "markdown",
   "metadata": {},
   "source": [
    "## 1. Escribir el número 1238.90634 en formato binario"
   ]
  },
  {
   "cell_type": "code",
   "execution_count": 32,
   "metadata": {
    "hide": true
   },
   "outputs": [],
   "source": [
    "import math\n",
    "\n",
    "def binary_int(number):\n",
    "    return(bin(number)[2:])\n",
    "\n",
    "def binary_decimal(number,limit):\n",
    "    i=0\n",
    "    new=number\n",
    "    result=\"\"\n",
    "    while(i<=limit and new!=1):\n",
    "        new=new*2\n",
    "        resultnumber=int(new)\n",
    "        new=new-resultnumber\n",
    "        result+=str(resultnumber)\n",
    "        i=i+1\n",
    "    return(result)\n",
    "\n",
    "def sign_str(sign):\n",
    "    return(\"+\" if sign==0 else \"-\")\n",
    "\n",
    "def binary(number,limit):\n",
    "    nsign= 0 if number > 0 else 1 \n",
    "    number_int=int(abs(number))\n",
    "    number_decimal=abs(number)-number_int\n",
    "    return(sign_str(nsign)+binary_int(number_int)+\",\"+binary_decimal(number_decimal,limit))"
   ]
  },
  {
   "cell_type": "code",
   "execution_count": 25,
   "metadata": {},
   "outputs": [
    {
     "name": "stdout",
     "output_type": "stream",
     "text": [
      "El resultado es: +10011010110,11101000000\n"
     ]
    }
   ],
   "source": [
    "print(\"El resultado es: \" + binary(1238.90634 ,10))"
   ]
  },
  {
   "cell_type": "markdown",
   "metadata": {},
   "source": [
    "## 2. Escribir el número -2376520.545 en formato binario"
   ]
  },
  {
   "cell_type": "code",
   "execution_count": 33,
   "metadata": {},
   "outputs": [
    {
     "name": "stdout",
     "output_type": "stream",
     "text": [
      "El resultado es: -1001000100001101001000,10001011100\n"
     ]
    }
   ],
   "source": [
    "print(\"El resultado es: \" + binary(-2376520.545,10))"
   ]
  },
  {
   "cell_type": "markdown",
   "metadata": {},
   "source": [
    "## 2. Escribir el número $(1.9878) × 10^{−34}$ en formato binario\n",
    "> Aquí voy hacer una aclaración y es que como les mostre en clases es formato IEEE no normalizado, y ese no es el formato que usan los computadores, pero no hay problema de hacerlo así. El formato normalizado es más complicado de calcular y optimiza el uso de los recursos de una forma diferente. \n"
   ]
  },
  {
   "cell_type": "code",
   "execution_count": null,
   "metadata": {},
   "outputs": [],
   "source": []
  },
  {
   "cell_type": "code",
   "execution_count": null,
   "metadata": {},
   "outputs": [],
   "source": []
  }
 ],
 "metadata": {
  "kernelspec": {
   "display_name": "Python 3",
   "language": "python",
   "name": "python3"
  },
  "language_info": {
   "codemirror_mode": {
    "name": "ipython",
    "version": 3
   },
   "file_extension": ".py",
   "mimetype": "text/x-python",
   "name": "python",
   "nbconvert_exporter": "python",
   "pygments_lexer": "ipython3",
   "version": "3.6.4"
  }
 },
 "nbformat": 4,
 "nbformat_minor": 2
}

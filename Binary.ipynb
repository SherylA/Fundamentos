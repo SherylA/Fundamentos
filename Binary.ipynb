{
 "cells": [
  {
   "cell_type": "markdown",
   "metadata": {},
   "source": [
    "# Ejercicios clase Semana 1"
   ]
  },
  {
   "cell_type": "markdown",
   "metadata": {},
   "source": [
    "## 1. Escribir el número 1238.90634 en formato binario"
   ]
  },
  {
   "cell_type": "code",
   "execution_count": 2,
   "metadata": {},
   "outputs": [],
   "source": [
    "import math\n",
    "\n",
    "def binary_int(number):\n",
    "    return(bin(number)[2:])\n",
    "\n",
    "def binary_decimal(number,limit):\n",
    "    i=0\n",
    "    new=number\n",
    "    result=\"\"\n",
    "    while(i<=limit and new!=1):\n",
    "        new=new*2\n",
    "        resultnumber=int(new)\n",
    "        new=new-resultnumber\n",
    "        result+=str(resultnumber)\n",
    "        i=i+1\n",
    "    return(result)\n",
    "\n",
    "def binary(number,limit):\n",
    "    number_int=int(number)\n",
    "    number_decimal=number-number_int\n",
    "    return(binary_int(number_int)+\",\"+binary_decimal(number_decimal,limit))"
   ]
  },
  {
   "cell_type": "code",
   "execution_count": 5,
   "metadata": {},
   "outputs": [
    {
     "name": "stdout",
     "output_type": "stream",
     "text": [
      "El resultado es: 10011010110,11101000000\n"
     ]
    }
   ],
   "source": [
    "print(\"El resultado es: \" + binary(1238.90634 ,10))"
   ]
  },
  {
   "cell_type": "code",
   "execution_count": 29,
   "metadata": {},
   "outputs": [
    {
     "ename": "NameError",
     "evalue": "name 'Texto' is not defined",
     "output_type": "error",
     "traceback": [
      "\u001b[0;31m---------------------------------------------------------------------------\u001b[0m",
      "\u001b[0;31mNameError\u001b[0m                                 Traceback (most recent call last)",
      "\u001b[0;32m<ipython-input-29-8a38dc81fd05>\u001b[0m in \u001b[0;36m<module>\u001b[0;34m()\u001b[0m\n\u001b[0;32m----> 1\u001b[0;31m \u001b[0mTexto\u001b[0m\u001b[0;34m\u001b[0m\u001b[0m\n\u001b[0m",
      "\u001b[0;31mNameError\u001b[0m: name 'Texto' is not defined"
     ]
    }
   ],
   "source": [
    "Texto"
   ]
  },
  {
   "cell_type": "code",
   "execution_count": null,
   "metadata": {},
   "outputs": [],
   "source": [
    "def ieee_norm(number):\n",
    "    s=0 #pos\n",
    "    exp=\n",
    "    \n",
    "    if number>0:"
   ]
  }
 ],
 "metadata": {
  "kernelspec": {
   "display_name": "Python 3",
   "language": "python",
   "name": "python3"
  },
  "language_info": {
   "codemirror_mode": {
    "name": "ipython",
    "version": 3
   },
   "file_extension": ".py",
   "mimetype": "text/x-python",
   "name": "python",
   "nbconvert_exporter": "python",
   "pygments_lexer": "ipython3",
   "version": "3.6.4"
  }
 },
 "nbformat": 4,
 "nbformat_minor": 2
}

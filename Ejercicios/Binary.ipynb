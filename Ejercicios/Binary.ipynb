{
 "cells": [
  {
   "cell_type": "markdown",
   "metadata": {},
   "source": [
    "# Ejercicios clase Semana 1"
   ]
  },
  {
   "cell_type": "code",
   "execution_count": 260,
   "metadata": {},
   "outputs": [
    {
     "data": {
      "text/html": [
       "\n",
       "    <script>\n",
       "\n",
       "    code_show=true; \n",
       "\n",
       "    function code_toggle() {\n",
       "     if (code_show){\n",
       "     $('div.input').hide();\n",
       "     } else {\n",
       "     $('div.input').show();\n",
       "     }\n",
       "     code_show = !code_show\n",
       "    }\n",
       "\n",
       "    $( document ).ready(code_toggle);\n",
       "    </script>\n",
       "\n",
       "    <form action=\"javascript:code_toggle()\"><input type=\"submit\" value=\"Mostrar código en python.\"></form>\n"
      ],
      "text/plain": [
       "<IPython.core.display.HTML object>"
      ]
     },
     "execution_count": 260,
     "metadata": {},
     "output_type": "execute_result"
    }
   ],
   "source": [
    "from IPython.display import HTML\n",
    "\n",
    "msj=\"Mostrar código en python.\"\n",
    "HTML('''\n",
    "    <script>\n",
    "\n",
    "    code_show=true; \n",
    "\n",
    "    function code_toggle() {\n",
    "     if (code_show){\n",
    "     $('div.input').hide();\n",
    "     } else {\n",
    "     $('div.input').show();\n",
    "     }\n",
    "     code_show = !code_show\n",
    "    }\n",
    "\n",
    "    $( document ).ready(code_toggle);\n",
    "    </script>\n",
    "\n",
    "    <form action=\"javascript:code_toggle()\"><input type=\"submit\" value=\"%s\"></form>\n",
    "'''%(msj))"
   ]
  },
  {
   "cell_type": "code",
   "execution_count": 261,
   "metadata": {
    "hide": true
   },
   "outputs": [],
   "source": [
    "import math\n",
    "\n",
    "def errorNotList(x):\n",
    "    if not isinstance(x,list):\n",
    "        raise ValueError(\"Not list!\")\n",
    "\n",
    "def errorNotNumber(x):\n",
    "    if not (isinstance(x,float) or isinstance(x,int)):\n",
    "        raise ValueError(\"Not number!\")       \n",
    "\n",
    "def errorNotString(x):\n",
    "    if not isinstance(x,str):\n",
    "        raise ValueError(\"Not string!\")        \n",
    "        \n",
    "def intToBinary(number):\n",
    "    errorNotNumber(number)\n",
    "    return(bin(number)[2:])\n",
    "\n",
    "def binaryToInt(binary):\n",
    "    errorNotString(binary)\n",
    "    return(int(binary,2))\n",
    "\n",
    "def floatToBinary(number,limit):\n",
    "    errorNotNumber(number) or errorNotNumber(limit) \n",
    "    if number>=1:\n",
    "        raise ValueError(\"The number must be a fraction\")\n",
    "    if limit<=0:\n",
    "        return \"\"\n",
    "    new_number=number\n",
    "    result=\"\"\n",
    "    for i in range(0,limit):\n",
    "        new_number=new_number*2\n",
    "        if new_number==2:\n",
    "            result+=\"0\"\n",
    "        else:\n",
    "            result+=str(int(new_number))\n",
    "        new_number=new_number-int(new_number)\n",
    "    return(result)\n",
    "\n",
    "def binaryToFloat(binary):\n",
    "    errorNotString(binary)\n",
    "    result=[int(x)*2**(-1*(i+1)) for i,x in enumerate(binary)]\n",
    "    number=sum(result)\n",
    "    return(number)\n",
    "\n",
    "def signIntToStr(sign):\n",
    "    errorNotNumber(sign)\n",
    "    return(\"0\" if sign==0 else \"1\")\n",
    "\n",
    "def signIntToChar(sign):\n",
    "    errorNotNumber(sign)\n",
    "    return(\"+\" if sign==0 else \"-\")\n",
    "\n",
    "def signCharToInt(sign):\n",
    "    errorNotString(sign)\n",
    "    return(0 if sign==\"+\" else 1)\n",
    "\n",
    "def numberToBinary(number,limit):\n",
    "    errorNotNumber(number) or errorNotNumber(limit)\n",
    "    nsign= 0 if number > 0 else 1 \n",
    "    number_int=int(abs(number))\n",
    "    number_decimal=abs(number)-number_int\n",
    "    return(signIntToChar(nsign)+intToBinary(number_int)+\".\"+floatToBinary(number_decimal,limit))\n",
    "\n",
    "def binaryToNumber(binary):\n",
    "    errorNotString(binary)\n",
    "    return((-1)**signCharToInt(binary[0])*(binaryToInt(binary[1:].split(\".\")[0])+ \\\n",
    "    binaryToFloat(binary[1:].split(\".\")[1])))    "
   ]
  },
  {
   "cell_type": "code",
   "execution_count": 262,
   "metadata": {},
   "outputs": [],
   "source": [
    "def binary_abs_float_trunc(number,maxlength):\n",
    "    errorNotNumber(number) or errorNotNumber(maxlength)\n",
    "    number=abs(number)\n",
    "    number_int=int(abs(number))\n",
    "    number_decimal=abs(number)-number_int   \n",
    "    len_maxlength=maxlength-len(intToBinary(number_int))\n",
    "    if len_maxlength<0:\n",
    "        raise ValueError(\"The len a number in binary is more that maxlength\")\n",
    "    return(intToBinary(number_int)+\".\"+floatToBinary(number_decimal,len_maxlength-1))\n",
    "\n",
    "def binary_abs_int_trunc(number,maxlength):\n",
    "    errorNotNumber(number) or errorNotNumber(maxlength)\n",
    "    number=abs(number)\n",
    "    assert (number-int(number)==0),\"The number must be integer\"\n",
    "    number_int=int(abs(number))\n",
    "    len_maxlength=maxlength-len(intToBinary(number_int))\n",
    "    if len_maxlength<0:\n",
    "        raise ValueError(\"The len a number in binary is more that maxlength\")\n",
    "    zerofill=\"0\"*(len_maxlength)\n",
    "    return(zerofill+intToBinary(number_int))\n",
    "\n",
    "def binary_ieee_form(binary_list):\n",
    "    errorNotList(binary_list) \n",
    "    result=\"\"\n",
    "    if len(binary_list)==33:\n",
    "        result=\"[\"+str(binary_list[0])+\"] \"+ \\\n",
    "        \"[[\"+binary_list[1]+\"][\"+\"\".join(binary_list[2:9])+\"]] \"+\"[\"+\"\".join(binary_list[9:33])+\"]\"\n",
    "    elif len(binary_list)==65:\n",
    "        result=result=\"[\"+str(binary_list[0])+\"] \"+\"[[\"+binary_list[1]+\"][\"+ \\\n",
    "        \"\".join(binary_list[2:12])+\"]] \"+\"[\"+\"\".join(binary_list[12:65])+\"]\"\n",
    "    return(result)\n",
    "\n",
    "def str_bin_ieee(x):\n",
    "    isString=isinstance(x,str)\n",
    "    isBinaryIeee=len(x.split(\" \"))==3\n",
    "\n",
    "    if not (isString or isBinaryIeee):\n",
    "        raise ValueError(\"Not string ieee!\")\n",
    "    \n",
    "    ieee=x.split(\" \")\n",
    "    sign=(ieee[0].strip(\"[]\"))\n",
    "    exponent_list=ieee[1].strip(\"[]\").split(\"][\")\n",
    "    sign_exp=(exponent_list[0])\n",
    "    exponent=(exponent_list[1])\n",
    "    mantissa=(ieee[2].strip(\"[]\"))\n",
    "    return sign,sign_exp,exponent,mantissa\n",
    "\n",
    "def ieee_not_normalized_32bits(mantissa,exponent):\n",
    "    errorNotNumber(mantissa) or errorNotNumber(exponent)\n",
    "    #1 sign \n",
    "    #8 exp (1 sign 7 binary)\n",
    "    #23 mantisa\n",
    "    bitform=[\"\"]*33\n",
    "    nsign = 0 if mantissa > 0 else 1 \n",
    "    nsign_exp = 0 if exponent > 0 else 1 \n",
    "    bitform[0] = signIntToStr(nsign)\n",
    "    bitform[1] = signIntToStr(nsign_exp)\n",
    "    bitform[2:9]=list(binary_abs_int_trunc(exponent,7))\n",
    "    bitform[9:33]=list(binary_abs_float_trunc(mantissa,24))\n",
    "    return( binary_ieee_form(bitform))\n",
    "\n",
    "def ieee_not_normalized_64bits(mantissa,exponent):\n",
    "    errorNotNumber(mantissa) or errorNotNumber(exponent)\n",
    "    #1 sign \n",
    "    #11 exp (1 sign 10 binary)\n",
    "    #52 mantisa\n",
    "    bitform=[\"\"]*65\n",
    "    nsign = 0 if mantissa > 0 else 1 \n",
    "    nsign_exp = 0 if exponent > 0 else 1 \n",
    "    bitform[0] = signIntToStr(nsign)\n",
    "    bitform[1] = signIntToStr(nsign_exp)\n",
    "    bitform[2:12]=list(binary_abs_int_trunc(exponent,10))\n",
    "    bitform[12:65]=list(binary_abs_float_trunc(mantissa,53))\n",
    "    return( binary_ieee_form(bitform))\n",
    "\n",
    "def base10_from_ieee(stringvalue):\n",
    "    nsign,nsign_exp,exponent_bin,mantissa_bin=str_bin_ieee(stringvalue)\n",
    "    num = \"+\" if nsign==\"0\" else \"-\" \n",
    "    num = binaryToNumber(num+mantissa_bin)\n",
    "    exp = \"+\" if nsign_exp==\"0\" else \"-\" \n",
    "    exp = binaryToInt(exp+exponent_bin)\n",
    "    return num,exp\n",
    "    \n",
    "\n",
    "def error(varTeo,varExp):\n",
    "    err=(varTeo-varExp)\n",
    "    return (abs(err))"
   ]
  },
  {
   "cell_type": "markdown",
   "metadata": {},
   "source": [
    "## 1. Escribir el número 1238.90634 en formato binario"
   ]
  },
  {
   "cell_type": "code",
   "execution_count": 263,
   "metadata": {},
   "outputs": [
    {
     "name": "stdout",
     "output_type": "stream",
     "text": [
      "El resultado es (con 10 números después de la coma): +10011010110.1110100000\n",
      "Si calculamos el número de nuevo en base 10 sería: 1238.90625\n",
      "Lo cúal nos arroja un error del 9.00000e-05\n"
     ]
    }
   ],
   "source": [
    "convert=numberToBinary(1238.90634 ,10)\n",
    "print(\"El resultado es (con 10 números después de la coma): \" + convert)\n",
    "print(\"Si calculamos el número de nuevo en base 10 sería: \" + str(binaryToNumber(convert)))\n",
    "print(\"Lo cúal nos arroja un error del \"+ \"{:.5e}\".format(error(1238.90634,binaryToNumber(convert))))"
   ]
  },
  {
   "cell_type": "markdown",
   "metadata": {},
   "source": [
    "## 2. Escribir el número -2376520.545 en formato binario"
   ]
  },
  {
   "cell_type": "code",
   "execution_count": 264,
   "metadata": {},
   "outputs": [
    {
     "name": "stdout",
     "output_type": "stream",
     "text": [
      "El resultado es (con 10 números después de la coma): -1001000100001101001000.1000101110\n",
      "Si calculamos el número de nuevo en base 10 sería: -2376520.544921875\n",
      "Lo cúal nos arroja un error del 7.81249e-05%\n"
     ]
    }
   ],
   "source": [
    "convert=numberToBinary(-2376520.545 ,10)\n",
    "print(\"El resultado es (con 10 números después de la coma): \" + convert)\n",
    "print(\"Si calculamos el número de nuevo en base 10 sería: \" + str(binaryToNumber(convert)))\n",
    "print(\"Lo cúal nos arroja un error del \"+ \"{:.5e}\".format(error(-2376520.545,binaryToNumber(convert)))+ \"\\45\")"
   ]
  },
  {
   "cell_type": "markdown",
   "metadata": {},
   "source": [
    "## 3. Escribir el número $(1.9878) × 10^{−34}$ en formato binario\n",
    "> Aquí voy hacer una aclaración y es que la forma de transformación tal y como les mostré en clases es formato IEEE no normalizado, y ese no es el formato que usan los computadores, pero no hay problema de hacerlo así. El formato normalizado es más complicado de calcular y optimiza el uso de los recursos de una forma diferente. En terminos generales lo que les enseñe fue:\n",
    "\n",
    "<h4>\n",
    "\n",
    "\n",
    "|Elemento| Condiciones   | Variable |\n",
    "|-----------------------------------|\n",
    "|sign    |(0 +, 1 -)     | s        |\n",
    "|exp     |[-bias,bias]   | e        |  \n",
    "|mantisa | notación cient| m        |\n",
    "|bias    | desplazamiento| 0        |\n",
    "\n",
    "\n",
    "\n",
    "<br>\n",
    "    \n",
    "$$\\Large{N_{10} \\approx (-1)^s*10^{e}*m}$$\n",
    "\n",
    "<br>\n",
    "\n",
    "|Elemento| Condiciones   | Variable |\n",
    "|-----------------------------------|\n",
    "|sign    |(0 +, 1 -)     | s        |\n",
    "|exp     |[-bias,bias]   | e        |  \n",
    "|mantisa | fracción      | 1.m      |\n",
    "|bias    | desplazamiento| 127      |\n",
    "\n",
    "<br>\n",
    "\n",
    "$$\\Large{N_{10} \\approx (-1)^s*2^{(e-bias)}*1.m}$$\n"
   ]
  },
  {
   "cell_type": "code",
   "execution_count": 265,
   "metadata": {},
   "outputs": [
    {
     "name": "stdout",
     "output_type": "stream",
     "text": [
      "El resultado es (usando 32bits): [0] [[1][0100010]] [1.1111110011100000011101]\n",
      "Si calculamos el número de nuevo en base 10 sería: 1.987799882888794x10^(-34)\n",
      "Lo cúal nos arroja un error del 1.17111e-41%\n"
     ]
    }
   ],
   "source": [
    "convert = (ieee_not_normalized_32bits(1.9878,-34))\n",
    "num,exp = base10_from_ieee(convert)\n",
    "print(\"El resultado es (usando 32bits): \" + convert)\n",
    "print(\"Si calculamos el número de nuevo en base 10 sería: \" + str(num)+\"x10^(\"+str(exp)+\")\")\n",
    "print(\"Lo cúal nos arroja un error del \"+ \"{:.5e}\".format(error(1.9878e-34,num*10**exp))+ \"\\45\")"
   ]
  },
  {
   "cell_type": "markdown",
   "metadata": {},
   "source": [
    ">Ahora si fuera el número con exponente positivo, tendríamos:"
   ]
  },
  {
   "cell_type": "code",
   "execution_count": 266,
   "metadata": {
    "scrolled": true
   },
   "outputs": [
    {
     "name": "stdout",
     "output_type": "stream",
     "text": [
      "El resultado es (usando 32bits): [0] [[0][0100010]] [1.1111110011100000011101]\n",
      "Si calculamos el número de nuevo en base 10 sería: 1.987799882888794x10^(34)\n",
      "Lo cúal nos arroja un error del 1.17111e+27\n"
     ]
    }
   ],
   "source": [
    "convert = (ieee_not_normalized_32bits(1.9878,34))\n",
    "num,exp = base10_from_ieee(convert)\n",
    "print(\"El resultado es (usando 32bits): \" + convert)\n",
    "print(\"Si calculamos el número de nuevo en base 10 sería: \" + str(num)+\"x10^(\"+str(exp)+\")\")\n",
    "print(\"Lo cúal nos arroja un error del \"+ \"{:.5e}\".format(error(1.9878e34,num*10**exp)))"
   ]
  },
  {
   "cell_type": "markdown",
   "metadata": {},
   "source": [
    "## 4. Escribir el número $\\pi$ en formato binario de 64 bits."
   ]
  },
  {
   "cell_type": "code",
   "execution_count": 267,
   "metadata": {},
   "outputs": [
    {
     "name": "stdout",
     "output_type": "stream",
     "text": [
      "El resultado es (usando 64bits): [0] [[1][0000001111]] [1011001010010100001100001010001001010110110100100001.]\n",
      "Si calculamos el número de nuevo en base 10 sería: 3.141592653589793\n",
      "Lo cúal nos arroja un error del 1.00000e-16\n"
     ]
    }
   ],
   "source": [
    "convert = (ieee_not_normalized_64bits(math.pi*10**15,-15))\n",
    "num,exp = base10_from_ieee(convert)\n",
    "print(\"El resultado es (usando 64bits): \" + convert)\n",
    "print(\"Si calculamos el número de nuevo en base 10 sería: \" + str(num*10**-15))\n",
    "print(\"Lo cúal nos arroja un error del \"+ \"{:.5e}\".format(error(31415926535897931,num*10)*10**-16))"
   ]
  },
  {
   "cell_type": "markdown",
   "metadata": {},
   "source": [
    "## 5. Determinar cuanta memoria RAM se necesita para escribir una matriz de $10^6 × 10^6$ con números de precisión 8 bytes."
   ]
  },
  {
   "cell_type": "code",
   "execution_count": 268,
   "metadata": {},
   "outputs": [
    {
     "name": "stdout",
     "output_type": "stream",
     "text": [
      "El total de memoria RAM en Bytes es --> 8.000000e+12\n",
      "El total de memoria RAM en KBytes es --> 7.812500e+09\n",
      "El total de memoria RAM en MBytes es --> 7.629395e+06\n",
      "El total de memoria RAM en GBytes es --> 7.450581e+03\n"
     ]
    }
   ],
   "source": [
    "totalNumbers=10**12\n",
    "sizeNumbers=8 #bytes\n",
    "RamBytes=sizeNumbers*totalNumbers\n",
    "\n",
    "RamKBytes=RamBytes/2**10\n",
    "RamMBytes=RamBytes/2**20\n",
    "RamGBytes=RamBytes/2**30\n",
    "\n",
    "print(\"El total de memoria RAM en Bytes es --> %e\"%RamBytes)\n",
    "print(\"El total de memoria RAM en KBytes es --> %e\"%RamKBytes)\n",
    "print(\"El total de memoria RAM en MBytes es --> %e\"%RamMBytes)\n",
    "print(\"El total de memoria RAM en GBytes es --> %e\"%RamGBytes)"
   ]
  },
  {
   "cell_type": "markdown",
   "metadata": {},
   "source": [
    "## 6. Determinar la capacidad mínima y máxima de una memoria RAM de 2GB"
   ]
  },
  {
   "cell_type": "code",
   "execution_count": 269,
   "metadata": {},
   "outputs": [
    {
     "name": "stdout",
     "output_type": "stream",
     "text": [
      "La cantidad de números de menor tamaño que se puede escribir con 2GB RAM es --> 1.073742e+09\n",
      "La cantidad de números de mayor tamaño que se puede escribir con 2GB RAM es --> 1.677722e+07\n"
     ]
    }
   ],
   "source": [
    "#bits min --> 2  --> 0.25 bytes \n",
    "#bits max --> 128 --> 16 bytes\n",
    "sizeNumbersMin=2 #bytes\n",
    "sizeNumbersMax=128 #bytes\n",
    "RamGBytes=2\n",
    "RamBytes=RamGBytes*2**30\n",
    "\n",
    "totalNumbersMin=RamBytes/sizeNumbersMin\n",
    "totalNumbersMax=RamBytes/sizeNumbersMax\n",
    "\n",
    "print(\"La cantidad de números de menor tamaño que se puede escribir con 2GB RAM es --> %e\"%totalNumbersMin)\n",
    "print(\"La cantidad de números de mayor tamaño que se puede escribir con 2GB RAM es --> %e\"%totalNumbersMax)"
   ]
  }
 ],
 "metadata": {
  "kernelspec": {
   "display_name": "Python 3",
   "language": "python",
   "name": "python3"
  },
  "language_info": {
   "codemirror_mode": {
    "name": "ipython",
    "version": 3
   },
   "file_extension": ".py",
   "mimetype": "text/x-python",
   "name": "python",
   "nbconvert_exporter": "python",
   "pygments_lexer": "ipython3",
   "version": "3.6.4"
  }
 },
 "nbformat": 4,
 "nbformat_minor": 2
}

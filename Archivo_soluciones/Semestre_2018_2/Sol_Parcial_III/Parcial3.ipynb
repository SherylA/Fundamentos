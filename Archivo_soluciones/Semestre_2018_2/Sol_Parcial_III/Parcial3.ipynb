{
 "cells": [
  {
   "cell_type": "markdown",
   "metadata": {},
   "source": [
    "# Ejercicio de análisis de datos\n",
    "\n",
    "Análisis de datos fuente a consultar [Nasa](https://eclipse.gsfc.nasa.gov/eclipse.html), que referencian los eclipses ocurridos o predichos entre 1970 y 2020. "
   ]
  },
  {
   "cell_type": "code",
   "execution_count": 2,
   "metadata": {},
   "outputs": [],
   "source": [
    "import pandas as pd\n",
    "import numpy as np\n",
    "import matplotlib.pyplot as plt"
   ]
  },
  {
   "cell_type": "code",
   "execution_count": 35,
   "metadata": {},
   "outputs": [
    {
     "data": {
      "text/html": [
       "<style>\n",
       ".output_html {\n",
       "    display: flex;\n",
       "  justify-content: center;\n",
       "  }\n",
       "  \n",
       "table {\n",
       "  align-self: center;\n",
       " width:600px;\n",
       "}\n",
       "\n",
       "\n",
       ".output_png {\n",
       "    display: table-cell;\n",
       "    text-align: center;\n",
       "    vertical-align: middle;\n",
       "}\n",
       "</style>"
      ],
      "text/plain": [
       "<IPython.core.display.HTML object>"
      ]
     },
     "execution_count": 35,
     "metadata": {},
     "output_type": "execute_result"
    }
   ],
   "source": [
    "SMALL_SIZE = 12\n",
    "MEDIUM_SIZE = 14\n",
    "BIGGER_SIZE = 16\n",
    "\n",
    "plt.rc('font', size=SMALL_SIZE)          # controls default text sizes\n",
    "plt.rc('axes', titlesize=SMALL_SIZE)     # fontsize of the axes title\n",
    "plt.rc('axes', labelsize=MEDIUM_SIZE)    # fontsize of the x and y labels\n",
    "plt.rc('xtick', labelsize=SMALL_SIZE)    # fontsize of the tick labels\n",
    "plt.rc('ytick', labelsize=SMALL_SIZE)    # fontsize of the tick labels\n",
    "plt.rc('legend', fontsize=SMALL_SIZE)    # legend fontsize\n",
    "plt.rc('figure', titlesize=BIGGER_SIZE)  # fontsize of the figure title\n",
    "\n",
    "from IPython.core.display import HTML\n",
    "\n",
    "CSS = \"\"\"\n",
    ".output_html {\n",
    "    display: flex;\n",
    "  justify-content: center;\n",
    "  }\n",
    "  \n",
    "table {\n",
    "  align-self: center;\n",
    " width:600px;\n",
    "}\n",
    "\n",
    "\n",
    ".output_png {\n",
    "    display: table-cell;\n",
    "    text-align: center;\n",
    "    vertical-align: middle;\n",
    "}\n",
    "\"\"\"\n",
    "HTML('<style>{}</style>'.format(CSS))\n"
   ]
  },
  {
   "cell_type": "code",
   "execution_count": 38,
   "metadata": {},
   "outputs": [
    {
     "name": "stdout",
     "output_type": "stream",
     "text": [
      "El número de datos es 164 eclipses\n",
      "Las columnas son:\n"
     ]
    },
    {
     "data": {
      "text/html": [
       "<div>\n",
       "<style scoped>\n",
       "    .dataframe tbody tr th:only-of-type {\n",
       "        vertical-align: middle;\n",
       "    }\n",
       "\n",
       "    .dataframe tbody tr th {\n",
       "        vertical-align: top;\n",
       "    }\n",
       "\n",
       "    .dataframe thead th {\n",
       "        text-align: right;\n",
       "    }\n",
       "</style>\n",
       "<table border=\"1\" class=\"dataframe\">\n",
       "  <thead>\n",
       "    <tr style=\"text-align: right;\">\n",
       "      <th></th>\n",
       "      <th>Info Columna</th>\n",
       "    </tr>\n",
       "  </thead>\n",
       "  <tbody>\n",
       "    <tr>\n",
       "      <th>Calendar Date</th>\n",
       "      <td>This column gives the Calendar Date of the instant on greatest eclipse.</td>\n",
       "    </tr>\n",
       "    <tr>\n",
       "      <th>TD of Greatest Eclipse</th>\n",
       "      <td>In this column TD of Greatest Eclipse is the Terrestrial Dynamical Time when the axis of the Moon's shadow passes closest to Earth's center.</td>\n",
       "    </tr>\n",
       "    <tr>\n",
       "      <th>Eclipse Type</th>\n",
       "      <td>This column lists the Eclipse Type which is either Total, Annular, Hybrid or Partial.</td>\n",
       "    </tr>\n",
       "    <tr>\n",
       "      <th>Eclipse Magnitude</th>\n",
       "      <td>The Eclipse Magnitude gives the fraction of the Sun's diameter obscured at the instant of greatest eclipse.</td>\n",
       "    </tr>\n",
       "    <tr>\n",
       "      <th>Central Duration</th>\n",
       "      <td>For total and annular eclipses the Central Duration gives the length of the eclipse as seen from the central line at greatest eclipse.</td>\n",
       "    </tr>\n",
       "  </tbody>\n",
       "</table>\n",
       "</div>"
      ],
      "text/plain": [
       "                                                                                                                                                         Info Columna\n",
       "Calendar Date                                                                                This column gives the Calendar Date of the instant on greatest eclipse. \n",
       "TD of Greatest Eclipse  In this column TD of Greatest Eclipse is the Terrestrial Dynamical Time when the axis of the Moon's shadow passes closest to Earth's center. \n",
       "Eclipse Type                                                                    This column lists the Eclipse Type which is either Total, Annular, Hybrid or Partial.\n",
       "Eclipse Magnitude                                        The Eclipse Magnitude gives the fraction of the Sun's diameter obscured at the instant of greatest eclipse. \n",
       "Central Duration               For total and annular eclipses the Central Duration gives the length of the eclipse as seen from the central line at greatest eclipse."
      ]
     },
     "execution_count": 38,
     "metadata": {},
     "output_type": "execute_result"
    }
   ],
   "source": [
    "datos = pd.read_csv('Eclipses_rd.csv')\n",
    "info = (open(\"keys.info\")).readlines()\n",
    "info = [key.strip(\"\\n\") for key in info]\n",
    "datos_copy = datos.copy()\n",
    "num_datos = datos.shape[0]\n",
    "print(\"El número de datos es\",num_datos,\"eclipses\")\n",
    "print(\"Las columnas son:\")\n",
    "desc=pd.DataFrame({\"Info Columna\":info},index=datos.columns)\n",
    "pd.set_option('max_colwidth', 200)\n",
    "desc"
   ]
  },
  {
   "cell_type": "markdown",
   "metadata": {},
   "source": [
    "# ¿Cuántos eclipses hay por cada tipo?"
   ]
  },
  {
   "cell_type": "markdown",
   "metadata": {},
   "source": [
    "Para resolver este problema simplemente debemos agrupar los datos por los tipos de eclipses y selecionar cualquiera de las otras columnas. Para que el resultado sea mejor creamos un tabla llamada freq y una pequeña gráfica"
   ]
  },
  {
   "cell_type": "code",
   "execution_count": 62,
   "metadata": {},
   "outputs": [
    {
     "data": {
      "text/html": [
       "<div>\n",
       "<style scoped>\n",
       "    .dataframe tbody tr th:only-of-type {\n",
       "        vertical-align: middle;\n",
       "    }\n",
       "\n",
       "    .dataframe tbody tr th {\n",
       "        vertical-align: top;\n",
       "    }\n",
       "\n",
       "    .dataframe thead th {\n",
       "        text-align: right;\n",
       "    }\n",
       "</style>\n",
       "<table border=\"1\" class=\"dataframe\">\n",
       "  <thead>\n",
       "    <tr style=\"text-align: right;\">\n",
       "      <th></th>\n",
       "      <th>Count</th>\n",
       "    </tr>\n",
       "    <tr>\n",
       "      <th>Eclipse Type</th>\n",
       "      <th></th>\n",
       "    </tr>\n",
       "  </thead>\n",
       "  <tbody>\n",
       "    <tr>\n",
       "      <th>Annular</th>\n",
       "      <td>59</td>\n",
       "    </tr>\n",
       "    <tr>\n",
       "      <th>Hybrid</th>\n",
       "      <td>8</td>\n",
       "    </tr>\n",
       "    <tr>\n",
       "      <th>Partial</th>\n",
       "      <td>40</td>\n",
       "    </tr>\n",
       "    <tr>\n",
       "      <th>Total</th>\n",
       "      <td>57</td>\n",
       "    </tr>\n",
       "  </tbody>\n",
       "</table>\n",
       "</div>"
      ],
      "text/plain": [
       "              Count\n",
       "Eclipse Type       \n",
       "Annular          59\n",
       "Hybrid            8\n",
       "Partial          40\n",
       "Total            57"
      ]
     },
     "execution_count": 62,
     "metadata": {},
     "output_type": "execute_result"
    }
   ],
   "source": [
    "freq = datos.groupby(datos['Eclipse Type']).count()['Calendar Date']\n",
    "freq = pd.DataFrame({\"Count\":freq.values},index=freq.index)\n",
    "freq"
   ]
  },
  {
   "cell_type": "code",
   "execution_count": 63,
   "metadata": {},
   "outputs": [
    {
     "data": {
      "image/png": "[encoded data removed]",
      "text/plain": [
       "<matplotlib.figure.Figure at 0x7f333893e780>"
      ]
     },
     "metadata": {},
     "output_type": "display_data"
    }
   ],
   "source": [
    "fig = freq.plot.pie(y='Count', \n",
    "                    figsize=(7, 7),\n",
    "                    title=\"Types eclipse\",\n",
    "                    autopct='%.2f%%')\n",
    "fig = fig.legend(loc='lower left')"
   ]
  },
  {
   "cell_type": "markdown",
   "metadata": {},
   "source": [
    "El segundo punto es hallar la cantida de eclipses por día (sólo en día no la fecha entera) y hallar el día en donde más se repiten eclipes."
   ]
  },
  {
   "cell_type": "code",
   "execution_count": 65,
   "metadata": {},
   "outputs": [
    {
     "name": "stdout",
     "output_type": "stream",
     "text": [
      "Día 11 con 13 eclipses\n"
     ]
    }
   ],
   "source": [
    "datos_dt = pd.to_datetime(datos['Calendar Date'])\n",
    "day_freq_max = datos_dt.dt.day.mode()\n",
    "freq_day = np.unique(np.array(datos_dt.dt.day),return_counts=True)\n",
    "num_day_freq_max=freq_day[1][day_freq_max-1]\n",
    "print(\"Día\",day_freq_max[0],\"con\",num_day_freq_max[0],\"eclipses\")"
   ]
  },
  {
   "cell_type": "code",
   "execution_count": 70,
   "metadata": {},
   "outputs": [
    {
     "data": {
      "image/png": "[encoded data removed]",
      "text/plain": [
       "<matplotlib.figure.Figure at 0x7f3338072358>"
      ]
     },
     "metadata": {},
     "output_type": "display_data"
    }
   ],
   "source": [
    "count_day = pd.DataFrame({'Count':freq_day[1]},index=freq_day[0])\n",
    "fig = count_day.plot.bar(figsize=(12, 5),\n",
    "                            title=\"Eclipse for day\",)"
   ]
  },
  {
   "cell_type": "code",
   "execution_count": 71,
   "metadata": {},
   "outputs": [
    {
     "data": {
      "text/plain": [
       "{'1971-1981': 22,\n",
       " '1981-1991': 36,\n",
       " '1991-2001': 36,\n",
       " '2001-2011': 36,\n",
       " '2011-2021': 34}"
      ]
     },
     "execution_count": 71,
     "metadata": {},
     "output_type": "execute_result"
    }
   ],
   "source": [
    "freq_year = np.unique(np.array(datos_dt.dt.year),return_counts=True)\n",
    "freq_year =np.array(freq_year)\n",
    "last_year = max(freq_year[0])\n",
    "first_year = min(freq_year[0])\n",
    "decadas = (last_year-first_year)//10\n",
    "val = {}\n",
    "for i in range(0,decadas+1):\n",
    "    key = \"%d-%d\"%((first_year+i*10),(first_year+10*(i+1)))\n",
    "    val[key]=(freq_year[:,i*10:(i+1)*10].sum(axis=1)[1])\n",
    "val"
   ]
  },
  {
   "cell_type": "code",
   "execution_count": 205,
   "metadata": {},
   "outputs": [
    {
     "name": "stdout",
     "output_type": "stream",
     "text": [
      "Entre 8 y 11 am en septiembre hubiero 4 eclipses\n"
     ]
    }
   ],
   "source": [
    "datos_dt2 = pd.to_datetime(datos['TD of Greatest Eclipse'])\n",
    "data = pd.DataFrame({'mes':datos_dt.dt.month,'hora':datos_dt2.dt.hour})\n",
    "cond = (data['hora']>=8) & (data['hora']<=11) & (data['mes']==9)\n",
    "print(\"Entre 8 y 11 am en septiembre hubiero\",data[cond].count()['mes'],\"eclipses\")"
   ]
  },
  {
   "cell_type": "code",
   "execution_count": 206,
   "metadata": {},
   "outputs": [
    {
     "data": {
      "text/html": [
       "<div>\n",
       "<style scoped>\n",
       "    .dataframe tbody tr th:only-of-type {\n",
       "        vertical-align: middle;\n",
       "    }\n",
       "\n",
       "    .dataframe tbody tr th {\n",
       "        vertical-align: top;\n",
       "    }\n",
       "\n",
       "    .dataframe thead th {\n",
       "        text-align: right;\n",
       "    }\n",
       "</style>\n",
       "<table border=\"1\" class=\"dataframe\">\n",
       "  <thead>\n",
       "    <tr style=\"text-align: right;\">\n",
       "      <th></th>\n",
       "      <th>Eclipse Magnitude</th>\n",
       "      <th>Central Duration seg</th>\n",
       "    </tr>\n",
       "    <tr>\n",
       "      <th>Eclipse Type</th>\n",
       "      <th></th>\n",
       "      <th></th>\n",
       "    </tr>\n",
       "  </thead>\n",
       "  <tbody>\n",
       "    <tr>\n",
       "      <th>Annular</th>\n",
       "      <td>0.958559</td>\n",
       "      <td>274.406780</td>\n",
       "    </tr>\n",
       "    <tr>\n",
       "      <th>Hybrid</th>\n",
       "      <td>1.006000</td>\n",
       "      <td>37.500000</td>\n",
       "    </tr>\n",
       "    <tr>\n",
       "      <th>Partial</th>\n",
       "      <td>0.704050</td>\n",
       "      <td>0.000000</td>\n",
       "    </tr>\n",
       "    <tr>\n",
       "      <th>Total</th>\n",
       "      <td>1.044684</td>\n",
       "      <td>220.526316</td>\n",
       "    </tr>\n",
       "  </tbody>\n",
       "</table>\n",
       "</div>"
      ],
      "text/plain": [
       "              Eclipse Magnitude  Central Duration seg\n",
       "Eclipse Type                                         \n",
       "Annular                0.958559            274.406780\n",
       "Hybrid                 1.006000             37.500000\n",
       "Partial                0.704050              0.000000\n",
       "Total                  1.044684            220.526316"
      ]
     },
     "execution_count": 206,
     "metadata": {},
     "output_type": "execute_result"
    }
   ],
   "source": [
    "datoscd = datos['Central Duration'].str.replace('-','00:00')\n",
    "datoscd = datoscd.str.replace('s','')\n",
    "datoscd = datoscd.str.replace('m',':')\n",
    "datoscd = '00:' + datoscd\n",
    "datos['Central Duration seg'] = pd.to_datetime(datoscd).dt.minute*60 +pd.to_datetime(datoscd).dt.second\n",
    "datos.groupby(datos['Eclipse Type']).mean()"
   ]
  }
 ],
 "metadata": {
  "kernelspec": {
   "display_name": "Python 3",
   "language": "python",
   "name": "python3"
  },
  "language_info": {
   "codemirror_mode": {
    "name": "ipython",
    "version": 3
   },
   "file_extension": ".py",
   "mimetype": "text/x-python",
   "name": "python",
   "nbconvert_exporter": "python",
   "pygments_lexer": "ipython3",
   "version": "3.6.4"
  }
 },
 "nbformat": 4,
 "nbformat_minor": 2
}

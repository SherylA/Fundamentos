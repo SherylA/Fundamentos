{
 "cells": [
  {
   "cell_type": "code",
   "execution_count": 1,
   "metadata": {},
   "outputs": [
    {
     "data": {
      "text/html": [
       "\n",
       "    <script>\n",
       "\n",
       "    code_show=true; \n",
       "    \n",
       "    function code_toggle() {\n",
       "     if (code_show){\n",
       "     //$('div.input').map( (i,x) => {return x.id=i})\n",
       "     $('div.input').hide();\n",
       "     } else {\n",
       "     $('div.input').show();\n",
       "     }\n",
       "     code_show = !code_show\n",
       "    }\n",
       "\n",
       "    $( document ).ready(code_toggle);\n",
       "    </script>\n",
       "\n",
       "    <form action=\"javascript:code_toggle()\"><input type=\"submit\" value=\"Mostrar código en python.\"></form>\n",
       "    \n"
      ],
      "text/plain": [
       "<IPython.core.display.HTML object>"
      ]
     },
     "execution_count": 1,
     "metadata": {},
     "output_type": "execute_result"
    }
   ],
   "source": [
    "from IPython.display import HTML\n",
    "\n",
    "msj=\"Mostrar código en python.\"\n",
    "HTML('''\n",
    "    <script>\n",
    "\n",
    "    code_show=true; \n",
    "    \n",
    "    function code_toggle() {\n",
    "     if (code_show){\n",
    "     //$('div.input').map( (i,x) => {return x.id=i})\n",
    "     $('div.input').hide();\n",
    "     } else {\n",
    "     $('div.input').show();\n",
    "     }\n",
    "     code_show = !code_show\n",
    "    }\n",
    "\n",
    "    $( document ).ready(code_toggle);\n",
    "    </script>\n",
    "\n",
    "    <form action=\"javascript:code_toggle()\"><input type=\"submit\" value=\"%s\"></form>\n",
    "    \n",
    "'''%(msj))"
   ]
  },
  {
   "cell_type": "markdown",
   "metadata": {},
   "source": [
    "# <center> Hablando en Binario\n",
    "_________________________________________________________\n",
    "\n",
    "El procesamiento de datos dentro de un computador tiene como base las **ALU(Arithmetic Logic Unit)** o unidades aritméticas lógicas. Una ALU debe procesar números usando el mismo formato que el resto del circuito digital. \n",
    "\n",
    "Para los procesadores modernos, este formato casi siempre es la representación del número binario de complemento a dos conocido como **Formato IEEE 754**. Las primeras computadoras usaron una amplia variedad de sistemas de numeración, incluyendo complemento a uno, formato signo-magnitud, e incluso verdaderos sistemas decimales, con diez tubos por dígito [Ver más](https://es.wikipedia.org/wiki/Unidad_aritm%C3%A9tica_l%C3%B3gica#Operaciones_simples)."
   ]
  },
  {
   "cell_type": "markdown",
   "metadata": {},
   "source": [
    "## Sistemas de numeración \n",
    "\n",
    "Un sistema de numeración es un conjunto de reglas y símbolos (por ejemplo los dígitos) que permiten construir un conjunto numérico, por ejemplo nuestro sistema decimal, el más usado en la actualidad, que nos permite organizar los números como la suma de los dígitos por potencias de 10: \n",
    "\n",
    "$$N_{b10} = \\sum_{n=Q}^{n=P} a_n 10^n \\label{eq1}\\tag{1}\\text{,}$$ \n",
    "\n",
    "donde $\\sum$ es el símbolo matemático que representa la suma de la secuencia en n desde un valor Q hasta P, donde $n \\in Z$, tal que n puede ser positivo o negativo y $a_n \\in \\{0,1,2,3,4,5,6,7,8,9\\}$, es decir $a_n$ es un dígito. \n",
    "\n",
    "Ejemplo:\n",
    "\n",
    "$$340.78 = 3*10^2 + 4*10^1 + 0*10^0 +7*10^{-1} + 8*10^{-2} \\text{.}$$\n",
    "\n",
    "En este caso vemos que P=2 y Q=-2"
   ]
  },
  {
   "cell_type": "markdown",
   "metadata": {},
   "source": [
    "## Sistema binario\n",
    "\n",
    "El sistema binario sigue unas reglas parecidas al sistema decimal descrita en Eq. 1, pero sus dígitos sólo pueden ser 0 o 1 por lo tanto:\n",
    "\n",
    "$$N_{b2} =  \\sum_{n=Q}^{n=P}  a_n 2^n \\label{eq2}\\tag{2}\\text{,}$$\n",
    "\n",
    "donde $n \\in Z$, enteros desde un valor Q hasta P $a_n \\in \\{0,1\\}\\text{.}$ \n",
    "\n",
    "Ejemplo:\n",
    "\n",
    "$$100.01 = 1*2^2 + 0*2^1 + 0*2^0 +0*2^{-1} + 1*2^{-2} \\text{.}$$\n",
    "\n",
    "En este caso vemos que P=2 y Q=-2"
   ]
  },
  {
   "cell_type": "markdown",
   "metadata": {
    "slideshow": {
     "slide_type": "slide"
    }
   },
   "source": [
    "## Relación entre los sistemas de numeración \n",
    "\n",
    "\n",
    "Para pasar de un sistema de numeración a otro tenemos que encontrar un conjunto de potencias de la **base a la que queremos pasar** y los dígitos que acompañan a esa potencia tal que la suma nos dé el número en **la base inicial**. Por ejemplo si queremos pasar de **b10** (base 10) a **(b2)** (base 2),tenemos qué\n",
    "\n",
    "$$N_{b10} =  \\sum_{n=Q}^{n=P}  a_n 2^n \\label{eq3}\\tag{3}\\text{.}$$ \n",
    "\n",
    "Dado a que n puede ser negativo y positivo, las potencias positivas sumaran la parte entera y las negativas la parte fraccionaria. Para ello dividamos el número en su parte entera y fraccionaria, de manera que tengamos:\n",
    "\n",
    "$$N_{b10} = Z_{b10} + D_{b10} = \\sum_{0}^{P} a_n 2^n + \\sum_{Q}^{-1} a_n 2^n \\text{,}$$ \n",
    "\n",
    "lo cual sería:\n",
    "\n",
    "$$Z_{b10} = \\sum_{0}^{P} a_n 2^n \\label{eq4}\\tag{4}\\text{,}$$\n",
    "\n",
    "$$D_{b10} = \\sum_{Q}^{-1} a_n 2^n \\label{eq5}\\tag{5}\\text{.}$$ "
   ]
  },
  {
   "cell_type": "markdown",
   "metadata": {},
   "source": [
    "### Entero base 10 a Entero base 2\n",
    "\n",
    "<div class=\"alert alert-block alert-info\">\n",
    "<b>Para tener en cuenta:</b>\n",
    "Los enteros son número positivos y negativos, en este caso la representación se hace con su valor absoluto es decir tanto para 10 como para -10 la representación es la misma $1*10^1 + 0*10^0$ pero son acompañados por signos diferentes. Por lo tanto si vamos a pasar un número entero en base 10 trabajamos con su valor absoluto.\n",
    "</div>\n",
    "\n",
    "Para hallar los dígitos adecuados tenemos varios métodos, por asignación de potencias usando una tabla, por división o por logaritmos."
   ]
  },
  {
   "cell_type": "markdown",
   "metadata": {},
   "source": [
    "#### Tabla de potencias\n",
    "\n",
    "En este caso el proceso es simple pero no útil en casos de números muy grandes. El método consiste en encontrar la potencias una a una usando una tabla de potencias:"
   ]
  },
  {
   "cell_type": "code",
   "execution_count": 90,
   "metadata": {},
   "outputs": [
    {
     "data": {
      "text/html": [
       "<div>\n",
       "<style scoped>\n",
       "    .dataframe tbody tr th:only-of-type {\n",
       "        vertical-align: middle;\n",
       "    }\n",
       "\n",
       "    .dataframe tbody tr th {\n",
       "        vertical-align: top;\n",
       "    }\n",
       "\n",
       "    .dataframe thead th {\n",
       "        text-align: right;\n",
       "    }\n",
       "</style>\n",
       "<table border=\"1\" class=\"dataframe\">\n",
       "  <thead>\n",
       "    <tr style=\"text-align: right;\">\n",
       "      <th></th>\n",
       "      <th>Potencia</th>\n",
       "      <th>Valor</th>\n",
       "    </tr>\n",
       "  </thead>\n",
       "  <tbody>\n",
       "    <tr>\n",
       "      <th>0</th>\n",
       "      <td>2^0</td>\n",
       "      <td>1</td>\n",
       "    </tr>\n",
       "    <tr>\n",
       "      <th>1</th>\n",
       "      <td>2^1</td>\n",
       "      <td>2</td>\n",
       "    </tr>\n",
       "    <tr>\n",
       "      <th>2</th>\n",
       "      <td>2^2</td>\n",
       "      <td>4</td>\n",
       "    </tr>\n",
       "    <tr>\n",
       "      <th>3</th>\n",
       "      <td>2^3</td>\n",
       "      <td>8</td>\n",
       "    </tr>\n",
       "    <tr>\n",
       "      <th>4</th>\n",
       "      <td>2^4</td>\n",
       "      <td>16</td>\n",
       "    </tr>\n",
       "    <tr>\n",
       "      <th>5</th>\n",
       "      <td>2^5</td>\n",
       "      <td>32</td>\n",
       "    </tr>\n",
       "    <tr>\n",
       "      <th>6</th>\n",
       "      <td>2^6</td>\n",
       "      <td>64</td>\n",
       "    </tr>\n",
       "    <tr>\n",
       "      <th>7</th>\n",
       "      <td>2^7</td>\n",
       "      <td>128</td>\n",
       "    </tr>\n",
       "    <tr>\n",
       "      <th>8</th>\n",
       "      <td>2^8</td>\n",
       "      <td>256</td>\n",
       "    </tr>\n",
       "    <tr>\n",
       "      <th>9</th>\n",
       "      <td>2^9</td>\n",
       "      <td>512</td>\n",
       "    </tr>\n",
       "  </tbody>\n",
       "</table>\n",
       "</div>"
      ],
      "text/plain": [
       "  Potencia  Valor\n",
       "0      2^0      1\n",
       "1      2^1      2\n",
       "2      2^2      4\n",
       "3      2^3      8\n",
       "4      2^4     16\n",
       "5      2^5     32\n",
       "6      2^6     64\n",
       "7      2^7    128\n",
       "8      2^8    256\n",
       "9      2^9    512"
      ]
     },
     "execution_count": 90,
     "metadata": {},
     "output_type": "execute_result"
    }
   ],
   "source": [
    "import numpy as np\n",
    "import pandas as pd\n",
    "from IPython.display import YouTubeVideo\n",
    "\n",
    "power = np.arange(10)\n",
    "two_power_str = [\"2^\"+str(p) for p in power] \n",
    "two_power = 2**power\n",
    "pd.DataFrame({\"Potencia\":two_power_str,\"Valor\":two_power})"
   ]
  },
  {
   "cell_type": "markdown",
   "metadata": {},
   "source": [
    "Ubicar nuestro número en esa tabla, por ejemplo Z=149, que tendría una resta válida (de resultado positivo) con $2^7$, luego el resultado de esa resta vuelve a buscar un resta válida y así obtendremos representación adecuada:"
   ]
  },
  {
   "cell_type": "code",
   "execution_count": 3,
   "metadata": {},
   "outputs": [
    {
     "name": "stdout",
     "output_type": "stream",
     "text": [
      "El número 149 en base dos es: [0 0 1 0 0 1 0 1 0 1]\n"
     ]
    },
    {
     "data": {
      "text/html": [
       "<div>\n",
       "<style scoped>\n",
       "    .dataframe tbody tr th:only-of-type {\n",
       "        vertical-align: middle;\n",
       "    }\n",
       "\n",
       "    .dataframe tbody tr th {\n",
       "        vertical-align: top;\n",
       "    }\n",
       "\n",
       "    .dataframe thead th {\n",
       "        text-align: right;\n",
       "    }\n",
       "</style>\n",
       "<table border=\"1\" class=\"dataframe\">\n",
       "  <thead>\n",
       "    <tr style=\"text-align: right;\">\n",
       "      <th></th>\n",
       "      <th>Potencia</th>\n",
       "      <th>Valor</th>\n",
       "      <th>Resta válida</th>\n",
       "      <th>Representación</th>\n",
       "    </tr>\n",
       "  </thead>\n",
       "  <tbody>\n",
       "    <tr>\n",
       "      <th>0</th>\n",
       "      <td>2^9</td>\n",
       "      <td>512</td>\n",
       "      <td>No</td>\n",
       "      <td>0</td>\n",
       "    </tr>\n",
       "    <tr>\n",
       "      <th>1</th>\n",
       "      <td>2^8</td>\n",
       "      <td>256</td>\n",
       "      <td>No</td>\n",
       "      <td>0</td>\n",
       "    </tr>\n",
       "    <tr>\n",
       "      <th>2</th>\n",
       "      <td>2^7</td>\n",
       "      <td>128</td>\n",
       "      <td>149-128=21</td>\n",
       "      <td>1</td>\n",
       "    </tr>\n",
       "    <tr>\n",
       "      <th>3</th>\n",
       "      <td>2^6</td>\n",
       "      <td>64</td>\n",
       "      <td>No</td>\n",
       "      <td>0</td>\n",
       "    </tr>\n",
       "    <tr>\n",
       "      <th>4</th>\n",
       "      <td>2^5</td>\n",
       "      <td>32</td>\n",
       "      <td>No</td>\n",
       "      <td>0</td>\n",
       "    </tr>\n",
       "    <tr>\n",
       "      <th>5</th>\n",
       "      <td>2^4</td>\n",
       "      <td>16</td>\n",
       "      <td>21-16=5</td>\n",
       "      <td>1</td>\n",
       "    </tr>\n",
       "    <tr>\n",
       "      <th>6</th>\n",
       "      <td>2^3</td>\n",
       "      <td>8</td>\n",
       "      <td>No</td>\n",
       "      <td>0</td>\n",
       "    </tr>\n",
       "    <tr>\n",
       "      <th>7</th>\n",
       "      <td>2^2</td>\n",
       "      <td>4</td>\n",
       "      <td>5-4=1</td>\n",
       "      <td>1</td>\n",
       "    </tr>\n",
       "    <tr>\n",
       "      <th>8</th>\n",
       "      <td>2^1</td>\n",
       "      <td>2</td>\n",
       "      <td>No</td>\n",
       "      <td>0</td>\n",
       "    </tr>\n",
       "    <tr>\n",
       "      <th>9</th>\n",
       "      <td>2^0</td>\n",
       "      <td>1</td>\n",
       "      <td>1-1=0</td>\n",
       "      <td>1</td>\n",
       "    </tr>\n",
       "  </tbody>\n",
       "</table>\n",
       "</div>"
      ],
      "text/plain": [
       "  Potencia  Valor Resta válida  Representación\n",
       "0      2^9    512           No               0\n",
       "1      2^8    256           No               0\n",
       "2      2^7    128   149-128=21               1\n",
       "3      2^6     64           No               0\n",
       "4      2^5     32           No               0\n",
       "5      2^4     16      21-16=5               1\n",
       "6      2^3      8           No               0\n",
       "7      2^2      4        5-4=1               1\n",
       "8      2^1      2           No               0\n",
       "9      2^0      1        1-1=0               1"
      ]
     },
     "execution_count": 3,
     "metadata": {},
     "output_type": "execute_result"
    }
   ],
   "source": [
    "N=149\n",
    "v=[]\n",
    "m1 = [N]\n",
    "for i in range(10):   \n",
    "    m2 = m1[i] - two_power[-(i+1)]\n",
    "    v.append(m2 if m2>=0 else -1)\n",
    "    m1.append(m1[i] if v[i]==-1 else m2)\n",
    "string = [\"No\" if v[i]==-1 else \"%d-%d=%d\"%(m1[i],two_power[-i-1],v[i]) for i in range(10)]\n",
    "print(\"El número\",N,\"en base dos es:\",np.heaviside(v,1).astype(int))\n",
    "pd.DataFrame({\"Potencia\":two_power_str[::-1],\"Valor\":two_power[::-1],\n",
    "              \"Resta válida\":string,\"Representación\":np.heaviside(v,1).astype(int)})       "
   ]
  },
  {
   "cell_type": "markdown",
   "metadata": {},
   "source": [
    "El problema de este método es que para números grandes se vuelve muy tedioso hacer grandes grandes tablas. "
   ]
  },
  {
   "cell_type": "markdown",
   "metadata": {},
   "source": [
    "#### División\n",
    "\n",
    "El método de división nos sugiere que tomemos nuestro número Z=149, y dividamos por la base 2. Ya que los dígitos siempre son menores que su base (Ej, $0...9 <10$) y aprovechando la regla:\n",
    "\n",
    "> Una división entre dos enteros N y M puede representarse como $\\frac{N}{M} = C + \\frac{R}{M}$, donde C es el cociente (número entero) y R el residuo(número entero)\n",
    "\n",
    "Tendríamos\n",
    "\n",
    "$$\\dfrac{Z_{b10}}{2} = \\sum_{0}^{P} \\dfrac{a_n}{2} 2^n $$ \n",
    "\n",
    "Dado a que $a_n$ es un dígito menor que la base esta fracción será menor que 1 para la potencia $n=0$.  tenemos que:  \n",
    "\n",
    "$$\\dfrac{Z_{b10}}{2}= C_{b10} + \\dfrac{R_{b10}}{2} = \\dfrac{a_0}{2} + \\sum_{n=1} \\dfrac{a_n}{2} 2^n $$\n",
    "\n",
    "Entonces, tendríamos un entero más un número racional menor que uno, dado que sólo $a_0/2$ puede ser racional, entonces el residuo sería el último dígito. Ahora volvemos a tener la misma situación:\n",
    "\n",
    "$$\\dfrac{C_{b10}}{2}= \\sum_{n=1} \\dfrac{a_n}{2} 2^n $$\n",
    "\n",
    "Por lo cuál un método simple para pasar un entero de una base a otra es dividir por la base cada cociente resultante hasta que sea posible y guardando los residuos para ser organizados del último al cociente final. "
   ]
  },
  {
   "cell_type": "code",
   "execution_count": 4,
   "metadata": {},
   "outputs": [
    {
     "name": "stdout",
     "output_type": "stream",
     "text": [
      "El número 149 en base dos es: [1, 0, 0, 1, 0, 1, 0, 1]\n"
     ]
    },
    {
     "data": {
      "text/html": [
       "<div>\n",
       "<style scoped>\n",
       "    .dataframe tbody tr th:only-of-type {\n",
       "        vertical-align: middle;\n",
       "    }\n",
       "\n",
       "    .dataframe tbody tr th {\n",
       "        vertical-align: top;\n",
       "    }\n",
       "\n",
       "    .dataframe thead th {\n",
       "        text-align: right;\n",
       "    }\n",
       "</style>\n",
       "<table border=\"1\" class=\"dataframe\">\n",
       "  <thead>\n",
       "    <tr style=\"text-align: right;\">\n",
       "      <th></th>\n",
       "      <th>Operación</th>\n",
       "      <th>Cociente</th>\n",
       "      <th>Residuo</th>\n",
       "    </tr>\n",
       "  </thead>\n",
       "  <tbody>\n",
       "    <tr>\n",
       "      <th>0</th>\n",
       "      <td>149/2</td>\n",
       "      <td>74</td>\n",
       "      <td>1</td>\n",
       "    </tr>\n",
       "    <tr>\n",
       "      <th>1</th>\n",
       "      <td>74/2</td>\n",
       "      <td>37</td>\n",
       "      <td>0</td>\n",
       "    </tr>\n",
       "    <tr>\n",
       "      <th>2</th>\n",
       "      <td>37/2</td>\n",
       "      <td>18</td>\n",
       "      <td>1</td>\n",
       "    </tr>\n",
       "    <tr>\n",
       "      <th>3</th>\n",
       "      <td>18/2</td>\n",
       "      <td>9</td>\n",
       "      <td>0</td>\n",
       "    </tr>\n",
       "    <tr>\n",
       "      <th>4</th>\n",
       "      <td>9/2</td>\n",
       "      <td>4</td>\n",
       "      <td>1</td>\n",
       "    </tr>\n",
       "    <tr>\n",
       "      <th>5</th>\n",
       "      <td>4/2</td>\n",
       "      <td>2</td>\n",
       "      <td>0</td>\n",
       "    </tr>\n",
       "    <tr>\n",
       "      <th>6</th>\n",
       "      <td>2/2</td>\n",
       "      <td>1</td>\n",
       "      <td>0</td>\n",
       "    </tr>\n",
       "    <tr>\n",
       "      <th>7</th>\n",
       "      <td>1/2</td>\n",
       "      <td>No</td>\n",
       "      <td>1</td>\n",
       "    </tr>\n",
       "  </tbody>\n",
       "</table>\n",
       "</div>"
      ],
      "text/plain": [
       "  Operación Cociente  Residuo\n",
       "0     149/2       74        1\n",
       "1      74/2       37        0\n",
       "2      37/2       18        1\n",
       "3      18/2        9        0\n",
       "4       9/2        4        1\n",
       "5       4/2        2        0\n",
       "6       2/2        1        0\n",
       "7       1/2       No        1"
      ]
     },
     "execution_count": 4,
     "metadata": {},
     "output_type": "execute_result"
    }
   ],
   "source": [
    "N=149\n",
    "c = [N]\n",
    "r = []\n",
    "i=0\n",
    "while c[-1]>1:   \n",
    "    c.append(c[i]//2)\n",
    "    r.append(c[i]%2)\n",
    "    i+=1\n",
    "r.append(c[-1])\n",
    "print(\"El número\",N,\"en base dos es:\",r[::-1])\n",
    "pd.DataFrame({\"Operación\":[\"%d/2\"%(c[i]) for i in range(len(c))],\n",
    "              \"Cociente\":[\"No\" if i==len(c)-1 else c[i+1] for i in range(len(c))],\"Residuo\":r})"
   ]
  },
  {
   "cell_type": "markdown",
   "metadata": {},
   "source": [
    "#### Logaritmo\n",
    "\n",
    "A pesar que el anterior método es bastante simple y fácil de programar, para números muy grades o pequeños puede ser demasiado complicado. Combinando el primer método y el segundo podemos hallar la representación binaria con mayor facilidad, sólo necesitamos saber cuál es la máxima potencia posible y desde allí restar y volver a encontrar la potencia, es un proceso en donde nos interesan los números fuera del 0, que no aporta a la suma, en el caso del sistema binario es muy bastante útil y práctico. \n",
    "\n",
    "Es posible saber la potencia máxima posible con la que puede restarse nuestro número si este puede escribirse como $N=2^k$, siendo k un número real positivo, dado a que buscamos $N \\geq 2^n$ entonces $2^k \\geq 2^n$ lo que significa que $k \\geq n$, si encontramos k y lo redondeamos al entero menor podremos hallar la representación más rápido. \n",
    "\n",
    "$$k = \\log_{2} N = \\dfrac{\\ln N}{\\ln 2} = \\dfrac{\\log N}{\\log 2}$$"
   ]
  },
  {
   "cell_type": "code",
   "execution_count": 5,
   "metadata": {},
   "outputs": [
    {
     "name": "stdout",
     "output_type": "stream",
     "text": [
      "El número 149 en base dos es: [1, 0, 0, 1, 0, 1, 0]\n"
     ]
    },
    {
     "data": {
      "text/html": [
       "<div>\n",
       "<style scoped>\n",
       "    .dataframe tbody tr th:only-of-type {\n",
       "        vertical-align: middle;\n",
       "    }\n",
       "\n",
       "    .dataframe tbody tr th {\n",
       "        vertical-align: top;\n",
       "    }\n",
       "\n",
       "    .dataframe thead th {\n",
       "        text-align: right;\n",
       "    }\n",
       "</style>\n",
       "<table border=\"1\" class=\"dataframe\">\n",
       "  <thead>\n",
       "    <tr style=\"text-align: right;\">\n",
       "      <th></th>\n",
       "      <th>Operación</th>\n",
       "      <th>k</th>\n",
       "      <th>n</th>\n",
       "      <th>Falta</th>\n",
       "    </tr>\n",
       "  </thead>\n",
       "  <tbody>\n",
       "    <tr>\n",
       "      <th>0</th>\n",
       "      <td>log(149)/log(10)</td>\n",
       "      <td>7.219169</td>\n",
       "      <td>7</td>\n",
       "      <td>21</td>\n",
       "    </tr>\n",
       "    <tr>\n",
       "      <th>1</th>\n",
       "      <td>log(21)/log(10)</td>\n",
       "      <td>4.392317</td>\n",
       "      <td>4</td>\n",
       "      <td>5</td>\n",
       "    </tr>\n",
       "    <tr>\n",
       "      <th>2</th>\n",
       "      <td>log(5)/log(10)</td>\n",
       "      <td>2.321928</td>\n",
       "      <td>2</td>\n",
       "      <td>1</td>\n",
       "    </tr>\n",
       "    <tr>\n",
       "      <th>3</th>\n",
       "      <td>log(1)/log(10)</td>\n",
       "      <td>0.000000</td>\n",
       "      <td>0</td>\n",
       "      <td>0</td>\n",
       "    </tr>\n",
       "  </tbody>\n",
       "</table>\n",
       "</div>"
      ],
      "text/plain": [
       "          Operación         k  n  Falta\n",
       "0  log(149)/log(10)  7.219169  7     21\n",
       "1   log(21)/log(10)  4.392317  4      5\n",
       "2    log(5)/log(10)  2.321928  2      1\n",
       "3    log(1)/log(10)  0.000000  0      0"
      ]
     },
     "execution_count": 5,
     "metadata": {},
     "output_type": "execute_result"
    }
   ],
   "source": [
    "import math\n",
    "\n",
    "n = []\n",
    "k = []\n",
    "resta = [N]\n",
    "i=0\n",
    "while resta[i]>0:\n",
    "    k.append((math.log(resta[i])/math.log(2)))\n",
    "    n.append(math.trunc(k[i]))\n",
    "    resta.append(resta[i] - 2**n[i])\n",
    "    i+=1\n",
    "\n",
    "bin_str=[0]*n[0]\n",
    "for p in n:\n",
    "    bin_str[p-1] = 1\n",
    "print(\"El número\",N,\"en base dos es:\",bin_str[::-1])\n",
    "pd.DataFrame({\"Operación\":[\"log(%d)/log(10)\"%(resta[i]) for i in range(len(resta)-1)],\n",
    "              \"k\":k,\"n\":n,\"Falta\":[resta[i] if i <= len(resta)-1 else 0 for i in range(1,len(resta))]})"
   ]
  },
  {
   "cell_type": "markdown",
   "metadata": {},
   "source": [
    "### Enteros base 10 a otras bases"
   ]
  },
  {
   "cell_type": "code",
   "execution_count": 6,
   "metadata": {},
   "outputs": [
    {
     "name": "stdout",
     "output_type": "stream",
     "text": [
      "El número 149 en base 5 es: [1, 0, 4, 4]\n"
     ]
    },
    {
     "data": {
      "text/html": [
       "<div>\n",
       "<style scoped>\n",
       "    .dataframe tbody tr th:only-of-type {\n",
       "        vertical-align: middle;\n",
       "    }\n",
       "\n",
       "    .dataframe tbody tr th {\n",
       "        vertical-align: top;\n",
       "    }\n",
       "\n",
       "    .dataframe thead th {\n",
       "        text-align: right;\n",
       "    }\n",
       "</style>\n",
       "<table border=\"1\" class=\"dataframe\">\n",
       "  <thead>\n",
       "    <tr style=\"text-align: right;\">\n",
       "      <th></th>\n",
       "      <th>Operación</th>\n",
       "      <th>Cociente</th>\n",
       "      <th>Residuo</th>\n",
       "    </tr>\n",
       "  </thead>\n",
       "  <tbody>\n",
       "    <tr>\n",
       "      <th>0</th>\n",
       "      <td>149/5</td>\n",
       "      <td>29</td>\n",
       "      <td>4</td>\n",
       "    </tr>\n",
       "    <tr>\n",
       "      <th>1</th>\n",
       "      <td>29/5</td>\n",
       "      <td>5</td>\n",
       "      <td>4</td>\n",
       "    </tr>\n",
       "    <tr>\n",
       "      <th>2</th>\n",
       "      <td>5/5</td>\n",
       "      <td>1</td>\n",
       "      <td>0</td>\n",
       "    </tr>\n",
       "    <tr>\n",
       "      <th>3</th>\n",
       "      <td>1/5</td>\n",
       "      <td>No</td>\n",
       "      <td>1</td>\n",
       "    </tr>\n",
       "  </tbody>\n",
       "</table>\n",
       "</div>"
      ],
      "text/plain": [
       "  Operación Cociente  Residuo\n",
       "0     149/5       29        4\n",
       "1      29/5        5        4\n",
       "2       5/5        1        0\n",
       "3       1/5       No        1"
      ]
     },
     "execution_count": 6,
     "metadata": {},
     "output_type": "execute_result"
    }
   ],
   "source": [
    "N=149\n",
    "c = [N]\n",
    "r = []\n",
    "i=0\n",
    "while c[-1]>1:   \n",
    "    c.append(c[i]//5)\n",
    "    r.append(c[i]%5)\n",
    "    i+=1\n",
    "r.append(c[-1])\n",
    "print(\"El número\",N,\"en base 5 es:\",r[::-1])\n",
    "pd.DataFrame({\"Operación\":[\"%d/5\"%(c[i]) for i in range(len(c))],\n",
    "              \"Cociente\":[\"No\" if i==len(c)-1 else c[i+1] for i in range(len(c))],\"Residuo\":r})"
   ]
  },
  {
   "cell_type": "code",
   "execution_count": 7,
   "metadata": {},
   "outputs": [
    {
     "name": "stdout",
     "output_type": "stream",
     "text": [
      "El número 149 en base 8 es: [0, 2, 2, 5]\n"
     ]
    },
    {
     "data": {
      "text/html": [
       "<div>\n",
       "<style scoped>\n",
       "    .dataframe tbody tr th:only-of-type {\n",
       "        vertical-align: middle;\n",
       "    }\n",
       "\n",
       "    .dataframe tbody tr th {\n",
       "        vertical-align: top;\n",
       "    }\n",
       "\n",
       "    .dataframe thead th {\n",
       "        text-align: right;\n",
       "    }\n",
       "</style>\n",
       "<table border=\"1\" class=\"dataframe\">\n",
       "  <thead>\n",
       "    <tr style=\"text-align: right;\">\n",
       "      <th></th>\n",
       "      <th>Operación</th>\n",
       "      <th>Cociente</th>\n",
       "      <th>Residuo</th>\n",
       "    </tr>\n",
       "  </thead>\n",
       "  <tbody>\n",
       "    <tr>\n",
       "      <th>0</th>\n",
       "      <td>149/8</td>\n",
       "      <td>18</td>\n",
       "      <td>5</td>\n",
       "    </tr>\n",
       "    <tr>\n",
       "      <th>1</th>\n",
       "      <td>18/8</td>\n",
       "      <td>2</td>\n",
       "      <td>2</td>\n",
       "    </tr>\n",
       "    <tr>\n",
       "      <th>2</th>\n",
       "      <td>2/8</td>\n",
       "      <td>0</td>\n",
       "      <td>2</td>\n",
       "    </tr>\n",
       "    <tr>\n",
       "      <th>3</th>\n",
       "      <td>0/8</td>\n",
       "      <td>No</td>\n",
       "      <td>0</td>\n",
       "    </tr>\n",
       "  </tbody>\n",
       "</table>\n",
       "</div>"
      ],
      "text/plain": [
       "  Operación Cociente  Residuo\n",
       "0     149/8       18        5\n",
       "1      18/8        2        2\n",
       "2       2/8        0        2\n",
       "3       0/8       No        0"
      ]
     },
     "execution_count": 7,
     "metadata": {},
     "output_type": "execute_result"
    }
   ],
   "source": [
    "N=149\n",
    "c = [N]\n",
    "r = []\n",
    "i=0\n",
    "while c[-1]>1:   \n",
    "    c.append(c[i]//8)\n",
    "    r.append(c[i]%8)\n",
    "    i+=1\n",
    "r.append(c[-1])\n",
    "print(\"El número\",N,\"en base 8 es:\",r[::-1])\n",
    "pd.DataFrame({\"Operación\":[\"%d/8\"%(c[i]) for i in range(len(c))],\n",
    "              \"Cociente\":[\"No\" if i==len(c)-1 else c[i+1] for i in range(len(c))],\"Residuo\":r})"
   ]
  },
  {
   "cell_type": "markdown",
   "metadata": {},
   "source": [
    "### Ejercicios enteros base 10 a base 2"
   ]
  },
  {
   "cell_type": "code",
   "execution_count": 91,
   "metadata": {},
   "outputs": [
    {
     "data": {
      "image/jpeg": "[encoded data removed]",
      "text/html": [
       "\n",
       "        <iframe\n",
       "            width=\"400\"\n",
       "            height=\"300\"\n",
       "            src=\"https://www.youtube.com/embed/XSF4z7l3Pf0\"\n",
       "            frameborder=\"0\"\n",
       "            allowfullscreen\n",
       "        ></iframe>\n",
       "        "
      ],
      "text/plain": [
       "<IPython.lib.display.YouTubeVideo at 0x7f096407dc88>"
      ]
     },
     "execution_count": 91,
     "metadata": {},
     "output_type": "execute_result"
    }
   ],
   "source": [
    "from IPython.display import HTML\n",
    "YouTubeVideo('XSF4z7l3Pf0')\n",
    " "
   ]
  },
  {
   "cell_type": "markdown",
   "metadata": {},
   "source": [
    "### Fraccionarios base 10 a fraccionarios base 2\n",
    "\n",
    "Para los números menores de 1 podemos aplicar más o menos los mismos métodos, tan sólo cambia el segundo método, **donde no dividimos sino que multiplicamos**, pero hay una diferencia principal y es que no podemos conocer la potencia mínima para representar un número real menor de 1 e incluso es posible que no podamos hacerlo con exactitud. \n",
    "\n",
    "Los número enteros tiene la regla del cociente y residuo, cada vez que dividimos un número entero en la base a la que vamos a transformar se genera un par (C,R), ambos enteros, el residuo siempre es menor que la base y es un dígito en un orden especifico y el cociente puede volver a dividirse hasta que la división no pueda darnos un entero, entonce el último cociente (que obviamente es menor que la base) es tomado con los residuos y nos da la representación que queremos.\n",
    "\n",
    "Pero con los racionales menores que 1, tenemos la serie\n",
    "\n",
    "$$\\sum_{n=-1} a_n 2^n \\text{,} $$\n",
    "que es una serie geométrica, tal que si todos los $a_n=1$ converge\n",
    "\n",
    "$$\\sum_{1}^M (1/2)^{k-1} = 1-2*(0.5)^M \\text{,} $$\n",
    "\n",
    "Entonces tenemos que la suma hasta cada potencia sería: "
   ]
  },
  {
   "cell_type": "code",
   "execution_count": 9,
   "metadata": {},
   "outputs": [
    {
     "data": {
      "text/html": [
       "<div>\n",
       "<style scoped>\n",
       "    .dataframe tbody tr th:only-of-type {\n",
       "        vertical-align: middle;\n",
       "    }\n",
       "\n",
       "    .dataframe tbody tr th {\n",
       "        vertical-align: top;\n",
       "    }\n",
       "\n",
       "    .dataframe thead th {\n",
       "        text-align: right;\n",
       "    }\n",
       "</style>\n",
       "<table border=\"1\" class=\"dataframe\">\n",
       "  <thead>\n",
       "    <tr style=\"text-align: right;\">\n",
       "      <th></th>\n",
       "      <th>-1</th>\n",
       "      <th>-2</th>\n",
       "      <th>-3</th>\n",
       "      <th>-4</th>\n",
       "      <th>-5</th>\n",
       "      <th>-6</th>\n",
       "      <th>-7</th>\n",
       "      <th>-8</th>\n",
       "      <th>-9</th>\n",
       "    </tr>\n",
       "  </thead>\n",
       "  <tbody>\n",
       "    <tr>\n",
       "      <th>2^n</th>\n",
       "      <td>0.5</td>\n",
       "      <td>0.25</td>\n",
       "      <td>0.125</td>\n",
       "      <td>0.0625</td>\n",
       "      <td>0.03125</td>\n",
       "      <td>0.015625</td>\n",
       "      <td>0.007812</td>\n",
       "      <td>0.003906</td>\n",
       "      <td>0.001953</td>\n",
       "    </tr>\n",
       "    <tr>\n",
       "      <th>Suma 2^n</th>\n",
       "      <td>0.5</td>\n",
       "      <td>0.75</td>\n",
       "      <td>0.875</td>\n",
       "      <td>0.9375</td>\n",
       "      <td>0.96875</td>\n",
       "      <td>0.984375</td>\n",
       "      <td>0.992188</td>\n",
       "      <td>0.996094</td>\n",
       "      <td>0.998047</td>\n",
       "    </tr>\n",
       "  </tbody>\n",
       "</table>\n",
       "</div>"
      ],
      "text/plain": [
       "           -1    -2     -3      -4       -5        -6        -7        -8  \\\n",
       "2^n       0.5  0.25  0.125  0.0625  0.03125  0.015625  0.007812  0.003906   \n",
       "Suma 2^n  0.5  0.75  0.875  0.9375  0.96875  0.984375  0.992188  0.996094   \n",
       "\n",
       "                -9  \n",
       "2^n       0.001953  \n",
       "Suma 2^n  0.998047  "
      ]
     },
     "execution_count": 9,
     "metadata": {},
     "output_type": "execute_result"
    }
   ],
   "source": [
    "pd.DataFrame({\"2^n\":[2**(-m) for m in range(1,10)],\"Suma 2^n\":[1-2*(0.5)**m for m in range(2,11)]},index=np.arange(-1,-10,-1,dtype=np.int)).T"
   ]
  },
  {
   "cell_type": "markdown",
   "metadata": {},
   "source": [
    "Si partimos la serie en los valores acumulados por secciones, es probable que no podamos representar todos os fraccionarios con pocos números después de la coma, incluso es posible que tengamos que aproximar o redondear pues podríamos caer en un bucle infinito esperando poder hallar la representación exacta. Por ejemplo, el fraccionario 0.51"
   ]
  },
  {
   "cell_type": "code",
   "execution_count": 10,
   "metadata": {},
   "outputs": [
    {
     "name": "stdout",
     "output_type": "stream",
     "text": [
      "El número 0.5100000000000000089 en base 2 es 0. [1.0, 0.0, 0.0, 0.0, 0.0, 0.0, 1.0, 0.0, 1.0, 0.0, 0.0, 0.0, 1.0, 1.0, 1.0, 1.0, 0.0, 1.0, 0.0, 1.0, 1.0, 1.0, 0.0, 0.0, 0.0, 0.0, 1.0, 0.0, 1.0, 0.0, 0.0, 0.0, 1.0, 1.0, 1.0, 1.0, 0.0, 1.0, 0.0, 1.0, 1.0, 1.0, 0.0, 0.0, 0.0, 0.0, 1.0, 0.0, 1.0, 0.0, 0.0, 1.0]\n"
     ]
    },
    {
     "data": {
      "text/html": [
       "<div>\n",
       "<style scoped>\n",
       "    .dataframe tbody tr th:only-of-type {\n",
       "        vertical-align: middle;\n",
       "    }\n",
       "\n",
       "    .dataframe tbody tr th {\n",
       "        vertical-align: top;\n",
       "    }\n",
       "\n",
       "    .dataframe thead th {\n",
       "        text-align: right;\n",
       "    }\n",
       "</style>\n",
       "<table border=\"1\" class=\"dataframe\">\n",
       "  <thead>\n",
       "    <tr style=\"text-align: right;\">\n",
       "      <th></th>\n",
       "      <th>0</th>\n",
       "      <th>1</th>\n",
       "      <th>2</th>\n",
       "      <th>3</th>\n",
       "      <th>4</th>\n",
       "      <th>5</th>\n",
       "      <th>6</th>\n",
       "      <th>7</th>\n",
       "      <th>8</th>\n",
       "      <th>9</th>\n",
       "      <th>...</th>\n",
       "      <th>42</th>\n",
       "      <th>43</th>\n",
       "      <th>44</th>\n",
       "      <th>45</th>\n",
       "      <th>46</th>\n",
       "      <th>47</th>\n",
       "      <th>48</th>\n",
       "      <th>49</th>\n",
       "      <th>50</th>\n",
       "      <th>51</th>\n",
       "    </tr>\n",
       "  </thead>\n",
       "  <tbody>\n",
       "    <tr>\n",
       "      <th>Operación</th>\n",
       "      <td>0.510000*2</td>\n",
       "      <td>0.020000*2</td>\n",
       "      <td>0.040000*2</td>\n",
       "      <td>0.080000*2</td>\n",
       "      <td>0.160000*2</td>\n",
       "      <td>0.320000*2</td>\n",
       "      <td>0.640000*2</td>\n",
       "      <td>0.280000*2</td>\n",
       "      <td>0.560000*2</td>\n",
       "      <td>0.120000*2</td>\n",
       "      <td>...</td>\n",
       "      <td>0.040039*2</td>\n",
       "      <td>0.080078*2</td>\n",
       "      <td>0.160156*2</td>\n",
       "      <td>0.320312*2</td>\n",
       "      <td>0.640625*2</td>\n",
       "      <td>0.281250*2</td>\n",
       "      <td>0.562500*2</td>\n",
       "      <td>0.125000*2</td>\n",
       "      <td>0.250000*2</td>\n",
       "      <td>0.500000*2</td>\n",
       "    </tr>\n",
       "    <tr>\n",
       "      <th>Resultado</th>\n",
       "      <td>1.02</td>\n",
       "      <td>0.04</td>\n",
       "      <td>0.08</td>\n",
       "      <td>0.16</td>\n",
       "      <td>0.32</td>\n",
       "      <td>0.64</td>\n",
       "      <td>1.28</td>\n",
       "      <td>0.56</td>\n",
       "      <td>1.12</td>\n",
       "      <td>0.24</td>\n",
       "      <td>...</td>\n",
       "      <td>0.0800781</td>\n",
       "      <td>0.160156</td>\n",
       "      <td>0.320312</td>\n",
       "      <td>0.640625</td>\n",
       "      <td>1.28125</td>\n",
       "      <td>0.5625</td>\n",
       "      <td>1.125</td>\n",
       "      <td>0.25</td>\n",
       "      <td>0.5</td>\n",
       "      <td>1</td>\n",
       "    </tr>\n",
       "    <tr>\n",
       "      <th>Valores</th>\n",
       "      <td>1</td>\n",
       "      <td>0</td>\n",
       "      <td>0</td>\n",
       "      <td>0</td>\n",
       "      <td>0</td>\n",
       "      <td>0</td>\n",
       "      <td>1</td>\n",
       "      <td>0</td>\n",
       "      <td>1</td>\n",
       "      <td>0</td>\n",
       "      <td>...</td>\n",
       "      <td>0</td>\n",
       "      <td>0</td>\n",
       "      <td>0</td>\n",
       "      <td>0</td>\n",
       "      <td>1</td>\n",
       "      <td>0</td>\n",
       "      <td>1</td>\n",
       "      <td>0</td>\n",
       "      <td>0</td>\n",
       "      <td>1</td>\n",
       "    </tr>\n",
       "  </tbody>\n",
       "</table>\n",
       "<p>3 rows × 52 columns</p>\n",
       "</div>"
      ],
      "text/plain": [
       "                   0           1           2           3           4   \\\n",
       "Operación  0.510000*2  0.020000*2  0.040000*2  0.080000*2  0.160000*2   \n",
       "Resultado        1.02        0.04        0.08        0.16        0.32   \n",
       "Valores             1           0           0           0           0   \n",
       "\n",
       "                   5           6           7           8           9   ...  \\\n",
       "Operación  0.320000*2  0.640000*2  0.280000*2  0.560000*2  0.120000*2  ...   \n",
       "Resultado        0.64        1.28        0.56        1.12        0.24  ...   \n",
       "Valores             0           1           0           1           0  ...   \n",
       "\n",
       "                   42          43          44          45          46  \\\n",
       "Operación  0.040039*2  0.080078*2  0.160156*2  0.320312*2  0.640625*2   \n",
       "Resultado   0.0800781    0.160156    0.320312    0.640625     1.28125   \n",
       "Valores             0           0           0           0           1   \n",
       "\n",
       "                   47          48          49          50          51  \n",
       "Operación  0.281250*2  0.562500*2  0.125000*2  0.250000*2  0.500000*2  \n",
       "Resultado      0.5625       1.125        0.25         0.5           1  \n",
       "Valores             0           1           0           0           1  \n",
       "\n",
       "[3 rows x 52 columns]"
      ]
     },
     "execution_count": 10,
     "metadata": {},
     "output_type": "execute_result"
    }
   ],
   "source": [
    "N =np.longdouble(0.51) \n",
    "r = []\n",
    "i=0\n",
    "resta=[N]\n",
    "mul = []\n",
    "while resta[-1]>0 and i<100:   \n",
    "    mul.append(resta[i]*np.longdouble(2.0))\n",
    "    r.append(np.trunc(mul[i]))\n",
    "    resta.append(mul[i]-r[i]) \n",
    "    i+=1\n",
    "\n",
    "print(\"El número\",N,\"en base 2 es 0.\",r)\n",
    "pd.DataFrame({\"Operación\":[\"%f*2\"%(resta[i]) for i in range(len(resta)-1)],\n",
    "              \"Resultado\":mul,\"Valores\":r}).T\n"
   ]
  },
  {
   "cell_type": "markdown",
   "metadata": {},
   "source": [
    "Este fraccionario necesita de 51 números (dígitos entre 0 y 1) para poder representar con exactitud computacional el fraccionario, porque por supuesto cuando las operaciones tengan más de 16 dígitos después de la coma, el valor será naturalmente truncado, gracias al formato de representación de los procesadores actuales. "
   ]
  },
  {
   "cell_type": "markdown",
   "metadata": {},
   "source": [
    "### Ejercicios con fraccionarios en base 10 a base 2"
   ]
  },
  {
   "cell_type": "code",
   "execution_count": 11,
   "metadata": {},
   "outputs": [
    {
     "data": {
      "text/html": [
       "  \n",
       "    <video alt=\"test\" controls>\n",
       "        <source src=\"video2.mp4\" type=\"video/mp4\">\n",
       "    </video>\n"
      ],
      "text/plain": [
       "<IPython.core.display.HTML object>"
      ]
     },
     "execution_count": 11,
     "metadata": {},
     "output_type": "execute_result"
    }
   ],
   "source": [
    "HTML(\"\"\"  \n",
    "    <video alt=\"test\" controls>\n",
    "        <source src=\"video2.mp4\" type=\"video/mp4\">\n",
    "    </video>\n",
    "\"\"\") "
   ]
  },
  {
   "cell_type": "markdown",
   "metadata": {},
   "source": [
    "\n",
    "## Números grandes y pequeños\n",
    "\n",
    "Para los números grandes y pequeños lo más adecuado es usar el método logarítmico, siendo el número representado en su notación científica. \n",
    "\n",
    "$$ A \\times 10^P =2^k \\text{  ,  }  k=\\dfrac{\\log(A)+P}{\\log(2)} \\text{  ,  } n=[k]\\\\\n",
    "A \\times 10^P = M \\times 2^n \\text{  Donde  } M = \\dfrac{A \\times 10^P}{2^n}$$\n",
    "\n",
    "\n",
    "\n",
    "Por ejemplo vamos a pasar a binario la masa de un electrón y la masa de la tierra."
   ]
  },
  {
   "cell_type": "code",
   "execution_count": 30,
   "metadata": {
    "hide": true,
    "slideshow": {
     "slide_type": "slide"
    }
   },
   "outputs": [],
   "source": [
    "def errorNotList(x):\n",
    "    if not isinstance(x,list):\n",
    "        raise ValueError(\"Not list!\")\n",
    "\n",
    "def errorNotNumber(x):\n",
    "    if not (isinstance(x,float) or isinstance(x,int)):\n",
    "        raise ValueError(\"Not number!\")       \n",
    "\n",
    "def errorNotString(x):\n",
    "    if not isinstance(x,str):\n",
    "        raise ValueError(\"Not string!\")        \n",
    "        \n",
    "def intToBinary(number):\n",
    "    errorNotNumber(number)\n",
    "    if number<0:\n",
    "        return('-' + bin(number)[3:])\n",
    "    else:\n",
    "        return(bin(number)[2:])\n",
    "\n",
    "def binaryToInt(binary):\n",
    "    errorNotString(binary)\n",
    "    return(int(binary,2))\n",
    "\n",
    "def floatToBinary(number,limit):\n",
    "    errorNotNumber(number) or errorNotNumber(limit) \n",
    "    if number>=1:\n",
    "        raise ValueError(\"The number must be a fraction\")\n",
    "    if limit<=0:\n",
    "        return \"\"\n",
    "    new_number=number\n",
    "    result=\"\"\n",
    "    for i in range(0,limit):\n",
    "        new_number=new_number*2\n",
    "        if new_number==2:\n",
    "            result+=\"0\"\n",
    "        else:\n",
    "            result+=str(int(new_number))\n",
    "        new_number=new_number-int(new_number)\n",
    "    return(result)\n",
    "\n",
    "def binaryToFloat(binary):\n",
    "    errorNotString(binary)\n",
    "    result=[int(x)*2**(-1*(i+1)) for i,x in enumerate(binary)]\n",
    "    number=sum(result)\n",
    "    return(number)\n",
    "\n",
    "def signIntToStr(sign):\n",
    "    errorNotNumber(sign)\n",
    "    return(\"0\" if sign==0 else \"1\")\n",
    "\n",
    "def signIntToChar(sign):\n",
    "    errorNotNumber(sign)\n",
    "    return(\"+\" if sign==0 else \"-\")\n",
    "\n",
    "def signCharToInt(sign):\n",
    "    errorNotString(sign)\n",
    "    return(0 if sign==\"+\" else 1)\n",
    "\n",
    "def numberToBinary(number,limit):\n",
    "    errorNotNumber(number) or errorNotNumber(limit)\n",
    "    nsign= 0 if number > 0 else 1 \n",
    "    number_int=int(abs(number))\n",
    "    number_decimal=abs(number)-number_int\n",
    "    return(signIntToChar(nsign)+intToBinary(number_int)+\".\"+floatToBinary(number_decimal,limit))\n",
    "\n",
    "def binaryToNumber(binary):\n",
    "    errorNotString(binary)\n",
    "    return((-1)**signCharToInt(binary[0])*(binaryToInt(binary[1:].split(\".\")[0])+ \\\n",
    "    binaryToFloat(binary[1:].split(\".\")[1])))    "
   ]
  },
  {
   "cell_type": "code",
   "execution_count": 42,
   "metadata": {},
   "outputs": [
    {
     "data": {
      "text/html": [
       "\n",
       "    <video alt=\"test\" controls>\n",
       "        <source src=\"video3.mp4\" type=\"video/mp4\">\n",
       "    </video>\n"
      ],
      "text/plain": [
       "<IPython.core.display.HTML object>"
      ]
     },
     "execution_count": 42,
     "metadata": {},
     "output_type": "execute_result"
    }
   ],
   "source": [
    "HTML(\"\"\"\n",
    "    <video alt=\"test\" controls>\n",
    "        <source src=\"video3.mp4\" type=\"video/mp4\">\n",
    "    </video>\n",
    "\"\"\") "
   ]
  },
  {
   "cell_type": "code",
   "execution_count": 32,
   "metadata": {},
   "outputs": [
    {
     "name": "stdout",
     "output_type": "stream",
     "text": [
      "La masa de un electrón es: 9.1e-31\n",
      "La mayor potencia es: -100\n",
      "El número en notación binaria es 1.153562x2^(-100)\n",
      "Y el número en binario (con 10 dígitos después de la coma) es: +1.0010011101 x2^ -1100100\n"
     ]
    }
   ],
   "source": [
    "N=9.1e-31\n",
    "k=math.log(N)/math.log(2)\n",
    "n=math.floor(k)\n",
    "M=N/2**n\n",
    "print(\"La masa de un electrón es:\",N)\n",
    "print(\"La mayor potencia es:\",n)\n",
    "print(\"El número en notación binaria es %fx2^(%d)\"%(M,n))\n",
    "print(\"Y el número en binario (con 10 dígitos después de la coma) es:\",numberToBinary(M,10),\"x2^\",intToBinary(n))"
   ]
  },
  {
   "cell_type": "code",
   "execution_count": 33,
   "metadata": {},
   "outputs": [
    {
     "name": "stdout",
     "output_type": "stream",
     "text": [
      "La masa de la Tierra es: 5.972e+24\n",
      "La mayor potencia es: 82\n",
      "El número en notación binaria es 1.234981x2^(82)\n",
      "Y el número en binario (con 10 dígitos después de la coma) es: +1.0011110000 x2^ 1010010\n"
     ]
    }
   ],
   "source": [
    "N=5.972e24\n",
    "k=math.log(N)/math.log(2)\n",
    "n=math.trunc(k)\n",
    "M=N/2**n\n",
    "print(\"La masa de la Tierra es:\",N)\n",
    "print(\"La mayor potencia es:\",n)\n",
    "print(\"El número en notación binaria es %fx2^(%d)\"%(M,n))\n",
    "print(\"Y el número en binario (con 10 dígitos después de la coma) es:\",numberToBinary(M,10),\"x2^\",intToBinary(n))"
   ]
  },
  {
   "cell_type": "markdown",
   "metadata": {},
   "source": [
    "## Operaciones con binarios \n",
    "\n",
    "### Suma y Resta de binarios\n",
    "\n",
    "La suma es una operación básica en donde se adicionan dos o más cantidades, que pueden ser de distintos conjuntos numéricos, para formar un total. Por ejemplo $5 + (-19) = -14$, donde es sistema es base 10 y es la suma de un natural y un entero negativo. \n",
    "\n",
    "En los binarios también tenemos esta operación donde: \n",
    "\n",
    "| + | 0  | 1  |  \n",
    "|:-:|:-: |:-: |\n",
    "| 0  |  0 | 1 |\n",
    "| 1  |  1 | 10|\n",
    "\n",
    "Al igual que en el sistema decimal cunado sumamos dos dígitos y debemos movernos en las potencias de 10, hacemos lo mismo en el binario sabemos que $1+1=2$ pero en el sistema binario esto se representa como $10$ por lo tanto el proceso es similar, donde ese 1 se guarda para la operación hacia la izquierda.\n",
    "\n",
    "En contraposición la resta tiene la relación:\n",
    "\n",
    "| - | 0  | 1  |  \n",
    "|:-:|:-: |:-: |\n",
    "| 0  |  0 | 1 |\n",
    "| 1  |  -1 | 0|\n",
    "\n",
    "Ese -1 muchas veces crea problemas, en el sistema decimal cuando se restaba $23 - 9$ donde 9 es mayor a 3, se decía que 2 le prestaba $1*10^1$ tal que se operaba $13 - 9 = 4$ y el $2$ se transformaba en 1. Es lo mismo en el mundo binario pero puede ser más complicado de ejecutar. \n",
    "\n",
    "### Multiplicación de binarios\n",
    "\n",
    "La multiplicación en binario es más fácil que en cualquier otro sistema de numeración. Como los factores de la multiplicación sólo pueden ser CEROS o UNOS, el producto sólo puede ser CERO o UNO. En otras palabras, las tablas de multiplicar del cero y del uno son muy fáciles de aprender:\n",
    "\n",
    "| * | 0  | 1  |  \n",
    "|:-:|:-: |:-: |\n",
    "| 0  |  0 | 0 |\n",
    "| 1  |  0 | 1|"
   ]
  },
  {
   "cell_type": "code",
   "execution_count": 85,
   "metadata": {},
   "outputs": [
    {
     "data": {
      "text/html": [
       "  \n",
       "    <video alt=\"test\" controls>\n",
       "        <source src=\"video4.mp4\" type=\"video/mp4\">\n",
       "    </video>\n"
      ],
      "text/plain": [
       "<IPython.core.display.HTML object>"
      ]
     },
     "execution_count": 85,
     "metadata": {},
     "output_type": "execute_result"
    }
   ],
   "source": [
    "HTML(\"\"\"  \n",
    "    <video alt=\"test\" controls>\n",
    "        <source src=\"video4.mp4\" type=\"video/mp4\">\n",
    "    </video>\n",
    "\"\"\") "
   ]
  },
  {
   "cell_type": "markdown",
   "metadata": {},
   "source": [
    "\n",
    "## Ejercicios de binarios con respuestas"
   ]
  },
  {
   "cell_type": "code",
   "execution_count": 86,
   "metadata": {},
   "outputs": [
    {
     "name": "stdout",
     "output_type": "stream",
     "text": [
      "Decimal a binario\n"
     ]
    },
    {
     "data": {
      "text/html": [
       "<div>\n",
       "<style scoped>\n",
       "    .dataframe tbody tr th:only-of-type {\n",
       "        vertical-align: middle;\n",
       "    }\n",
       "\n",
       "    .dataframe tbody tr th {\n",
       "        vertical-align: top;\n",
       "    }\n",
       "\n",
       "    .dataframe thead th {\n",
       "        text-align: right;\n",
       "    }\n",
       "</style>\n",
       "<table border=\"1\" class=\"dataframe\">\n",
       "  <thead>\n",
       "    <tr style=\"text-align: right;\">\n",
       "      <th></th>\n",
       "      <th>decimal</th>\n",
       "      <th>binario</th>\n",
       "    </tr>\n",
       "  </thead>\n",
       "  <tbody>\n",
       "    <tr>\n",
       "      <th>0</th>\n",
       "      <td>17.9714</td>\n",
       "      <td>+10001.1111100010</td>\n",
       "    </tr>\n",
       "    <tr>\n",
       "      <th>1</th>\n",
       "      <td>191.5581</td>\n",
       "      <td>+10111111.1000111011</td>\n",
       "    </tr>\n",
       "    <tr>\n",
       "      <th>2</th>\n",
       "      <td>51.9705</td>\n",
       "      <td>+110011.1111100001</td>\n",
       "    </tr>\n",
       "    <tr>\n",
       "      <th>3</th>\n",
       "      <td>105.5169</td>\n",
       "      <td>+1101001.1000010001</td>\n",
       "    </tr>\n",
       "    <tr>\n",
       "      <th>4</th>\n",
       "      <td>141.3205</td>\n",
       "      <td>+10001101.0101001000</td>\n",
       "    </tr>\n",
       "  </tbody>\n",
       "</table>\n",
       "</div>"
      ],
      "text/plain": [
       "    decimal               binario\n",
       "0   17.9714     +10001.1111100010\n",
       "1  191.5581  +10111111.1000111011\n",
       "2   51.9705    +110011.1111100001\n",
       "3  105.5169   +1101001.1000010001\n",
       "4  141.3205  +10001101.0101001000"
      ]
     },
     "execution_count": 86,
     "metadata": {},
     "output_type": "execute_result"
    }
   ],
   "source": [
    "valores_b10 = np.round(np.random.normal(10,100,5),4)\n",
    "valores_b2 = [ numberToBinary(v,10) for v in valores_b10]\n",
    "print('Decimal a binario')\n",
    "pd.DataFrame({'decimal':valores_b10,'binario':valores_b2})"
   ]
  },
  {
   "cell_type": "code",
   "execution_count": 87,
   "metadata": {},
   "outputs": [
    {
     "name": "stdout",
     "output_type": "stream",
     "text": [
      "Binario a decimal\n"
     ]
    },
    {
     "data": {
      "text/html": [
       "<div>\n",
       "<style scoped>\n",
       "    .dataframe tbody tr th:only-of-type {\n",
       "        vertical-align: middle;\n",
       "    }\n",
       "\n",
       "    .dataframe tbody tr th {\n",
       "        vertical-align: top;\n",
       "    }\n",
       "\n",
       "    .dataframe thead th {\n",
       "        text-align: right;\n",
       "    }\n",
       "</style>\n",
       "<table border=\"1\" class=\"dataframe\">\n",
       "  <thead>\n",
       "    <tr style=\"text-align: right;\">\n",
       "      <th></th>\n",
       "      <th>binario</th>\n",
       "      <th>decimal</th>\n",
       "    </tr>\n",
       "  </thead>\n",
       "  <tbody>\n",
       "    <tr>\n",
       "      <th>0</th>\n",
       "      <td>-1011001.0000</td>\n",
       "      <td>-89.0000</td>\n",
       "    </tr>\n",
       "    <tr>\n",
       "      <th>1</th>\n",
       "      <td>+1101.1001</td>\n",
       "      <td>13.5625</td>\n",
       "    </tr>\n",
       "    <tr>\n",
       "      <th>2</th>\n",
       "      <td>-10001000.0101</td>\n",
       "      <td>-136.3125</td>\n",
       "    </tr>\n",
       "    <tr>\n",
       "      <th>3</th>\n",
       "      <td>-11000110.0101</td>\n",
       "      <td>-198.3125</td>\n",
       "    </tr>\n",
       "    <tr>\n",
       "      <th>4</th>\n",
       "      <td>+1111100.1100</td>\n",
       "      <td>124.7500</td>\n",
       "    </tr>\n",
       "  </tbody>\n",
       "</table>\n",
       "</div>"
      ],
      "text/plain": [
       "          binario   decimal\n",
       "0   -1011001.0000  -89.0000\n",
       "1      +1101.1001   13.5625\n",
       "2  -10001000.0101 -136.3125\n",
       "3  -11000110.0101 -198.3125\n",
       "4   +1111100.1100  124.7500"
      ]
     },
     "execution_count": 87,
     "metadata": {},
     "output_type": "execute_result"
    }
   ],
   "source": [
    "valores_b10 = np.round(np.random.normal(10,100,5),4)\n",
    "temp = [numberToBinary(v,4) for v in valores_b10]\n",
    "valores_b2 = [binaryToNumber(t) for t in temp]\n",
    "print('Binario a decimal')\n",
    "pd.DataFrame({'binario':temp,'decimal':valores_b2})"
   ]
  },
  {
   "cell_type": "code",
   "execution_count": 88,
   "metadata": {},
   "outputs": [
    {
     "name": "stdout",
     "output_type": "stream",
     "text": [
      "Operaciones entre binarios\n"
     ]
    },
    {
     "data": {
      "text/html": [
       "<div>\n",
       "<style scoped>\n",
       "    .dataframe tbody tr th:only-of-type {\n",
       "        vertical-align: middle;\n",
       "    }\n",
       "\n",
       "    .dataframe tbody tr th {\n",
       "        vertical-align: top;\n",
       "    }\n",
       "\n",
       "    .dataframe thead th {\n",
       "        text-align: right;\n",
       "    }\n",
       "</style>\n",
       "<table border=\"1\" class=\"dataframe\">\n",
       "  <thead>\n",
       "    <tr style=\"text-align: right;\">\n",
       "      <th></th>\n",
       "      <th>número 1</th>\n",
       "      <th>número 2</th>\n",
       "      <th>suma</th>\n",
       "      <th>resta</th>\n",
       "      <th>mul</th>\n",
       "    </tr>\n",
       "  </thead>\n",
       "  <tbody>\n",
       "    <tr>\n",
       "      <th>0</th>\n",
       "      <td>+10010010.</td>\n",
       "      <td>+11110.</td>\n",
       "      <td>+10110000.</td>\n",
       "      <td>+1110100.</td>\n",
       "      <td>+1000100011100.</td>\n",
       "    </tr>\n",
       "    <tr>\n",
       "      <th>1</th>\n",
       "      <td>+1000110.</td>\n",
       "      <td>+1011011.</td>\n",
       "      <td>+10100001.</td>\n",
       "      <td>-10101.</td>\n",
       "      <td>+1100011100010.</td>\n",
       "    </tr>\n",
       "    <tr>\n",
       "      <th>2</th>\n",
       "      <td>+10111.</td>\n",
       "      <td>+100100.</td>\n",
       "      <td>+111011.</td>\n",
       "      <td>-1101.</td>\n",
       "      <td>+1100111100.</td>\n",
       "    </tr>\n",
       "    <tr>\n",
       "      <th>3</th>\n",
       "      <td>+10010010.</td>\n",
       "      <td>+1101.</td>\n",
       "      <td>+10011111.</td>\n",
       "      <td>+10000101.</td>\n",
       "      <td>+11101101010.</td>\n",
       "    </tr>\n",
       "    <tr>\n",
       "      <th>4</th>\n",
       "      <td>+100010100.</td>\n",
       "      <td>+110010.</td>\n",
       "      <td>+101000110.</td>\n",
       "      <td>+11100010.</td>\n",
       "      <td>+11010111101000.</td>\n",
       "    </tr>\n",
       "  </tbody>\n",
       "</table>\n",
       "</div>"
      ],
      "text/plain": [
       "      número 1   número 2         suma       resta               mul\n",
       "0   +10010010.    +11110.   +10110000.   +1110100.   +1000100011100.\n",
       "1    +1000110.  +1011011.   +10100001.     -10101.   +1100011100010.\n",
       "2      +10111.   +100100.     +111011.      -1101.      +1100111100.\n",
       "3   +10010010.     +1101.   +10011111.  +10000101.     +11101101010.\n",
       "4  +100010100.   +110010.  +101000110.  +11100010.  +11010111101000."
      ]
     },
     "execution_count": 88,
     "metadata": {},
     "output_type": "execute_result"
    }
   ],
   "source": [
    "valores_b10_1 = np.abs(np.round(np.random.normal(10,100,5),0))\n",
    "valores_b10_2 = np.abs(np.round(np.random.normal(10,100,5),0))\n",
    "suma_b10  = valores_b10_1 + valores_b10_2\n",
    "resta_b10 = valores_b10_1 - valores_b10_2\n",
    "mul_b10   = valores_b10_1 * valores_b10_2\n",
    "\n",
    "valores_b2_1 = [ numberToBinary(v,0) for v in valores_b10_1]\n",
    "valores_b2_2 = [ numberToBinary(v,0) for v in valores_b10_2]\n",
    "\n",
    "suma_b2  =  [ numberToBinary(v,0) for v in suma_b10]\n",
    "resta_b2 =  [ numberToBinary(v,0) for v in resta_b10]\n",
    "mul_b2   =  [ numberToBinary(v,0) for v in mul_b10]\n",
    "print('Operaciones entre binarios')\n",
    "pd.DataFrame({'número 1':valores_b2_1,'número 2':valores_b2_2,\n",
    "              'suma':suma_b2,'resta':resta_b2,'mul':mul_b2})"
   ]
  },
  {
   "cell_type": "markdown",
   "metadata": {},
   "source": [
    "## Formato IEEE 754\n",
    "\n",
    "> El estándar del IEEE para aritmética en coma flotante (IEEE 754) es la norma o estándar técnico para computación en coma flotante, establecida en 1985 por el Instituto de Ingenieros Eléctricos y Electrónicos (IEEE). La norma abordó muchos problemas encontrados en las diversas implementaciones de coma flotante que las hacían difíciles de usar de forma fiable y portátil. Muchas unidades de coma flotante de hardware utilizan ahora el estándar IEEE 754. [Ver más](https://es.wikipedia.org/wiki/IEEE_coma_flotante)\n",
    "\n",
    "Si bien el formato IEEE 754 incluye varias normas para la asignación de números, números especiales, limites y demás. Es tan sólo un paso más para tener una representación adecuada según el bus de datos que se conecta al procesador y mueve las entradas y salidas. Básicamente la idea es representar por un número fijo de bits el signo, el exponente (en notación científica binaria, generalmente con un sesgo) y la mantisa (los decimales después de la coma). [Ver tabla](https://es.wikipedia.org/wiki/IEEE_coma_flotante)\n",
    "\n",
    "<table class=\"wikitable\">\n",
    "<tbody><tr>\n",
    "<th>Nombre \n",
    "</th>\n",
    "<th>Nombre común\n",
    "</th>\n",
    "<th>Base\n",
    "</th>\n",
    "<th>Dígitos (1 signo)\n",
    "</th>\n",
    "<th>Dígitos\n",
    "<p>decimales\n",
    "</p>\n",
    "</th>\n",
    "<th>Bits del Exponente\n",
    "</th>\n",
    "<th>E<sub>max</sub>\n",
    "<p>Decimal\n",
    "</p>\n",
    "</th>\n",
    "<th>Sesgo del\n",
    "<p>Exponente\n",
    "</p>\n",
    "</th>\n",
    "<th>E<sub>min</sub>\n",
    "</th>\n",
    "<th>E<sub>max</sub>\n",
    "</th>\n",
    "<th>Notas\n",
    "</th></tr>\n",
    "<tr>\n",
    "<td>binary16\n",
    "</td>\n",
    "<td>Media precisión\n",
    "</td>\n",
    "<td align=\"right\">2\n",
    "</td>\n",
    "<td align=\"right\">11\n",
    "</td>\n",
    "<td align=\"right\">~3\n",
    "</td>\n",
    "<td align=\"right\">5\n",
    "</td>\n",
    "<td align=\"right\">4,51\n",
    "</td>\n",
    "<td>2<sup>4</sup>−1 = 15\n",
    "</td>\n",
    "<td align=\"right\">−14\n",
    "</td>\n",
    "<td align=\"right\">+15\n",
    "</td>\n",
    "<td>No básico\n",
    "</td></tr>\n",
    "<tr>\n",
    "<td>binary32\n",
    "</td>\n",
    "<td>Simple precisión\n",
    "</td>\n",
    "<td align=\"right\">2\n",
    "</td>\n",
    "<td align=\"right\">24\n",
    "</td>\n",
    "<td align=\"right\">~7\n",
    "</td>\n",
    "<td align=\"right\">8\n",
    "</td>\n",
    "<td align=\"right\">38,23\n",
    "</td>\n",
    "<td>2<sup>7</sup>−1 = 127\n",
    "</td>\n",
    "<td align=\"right\">−126\n",
    "</td>\n",
    "<td align=\"right\">+127\n",
    "</td>\n",
    "<td>\n",
    "</td></tr>\n",
    "<tr>\n",
    "<td> binary64\n",
    "</td>\n",
    "<td>Doble precisión\n",
    "</td>\n",
    "<td align=\"right\">2\n",
    "</td>\n",
    "<td align=\"right\">53\n",
    "</td>\n",
    "<td align=\"right\">~16\n",
    "</td>\n",
    "<td align=\"right\">11\n",
    "</td>\n",
    "<td align=\"right\">307,95\n",
    "</td>\n",
    "<td>2<sup>10</sup>−1 = 1023\n",
    "</td>\n",
    "<td align=\"right\">−1022\n",
    "</td>\n",
    "<td align=\"right\">+1023\n",
    "</td>\n",
    "<td>\n",
    "</td></tr>\n",
    "<tr>\n",
    "<td>binary128\n",
    "</td>\n",
    "<td>Cuádruple precisión\n",
    "</td>\n",
    "<td align=\"right\">2\n",
    "</td>\n",
    "<td align=\"right\">113\n",
    "</td>\n",
    "<td align=\"right\">34,02\n",
    "</td>\n",
    "<td align=\"right\">15\n",
    "</td>\n",
    "<td align=\"right\">4931,77\n",
    "</td>\n",
    "<td>2<sup>14</sup>−1 = 16383\n",
    "</td>\n",
    "<td align=\"right\">−16382\n",
    "</td>\n",
    "<td align=\"right\">+16383\n",
    "</td>\n",
    "<td>\n",
    "</td></tr>\n",
    "<tr>\n",
    "<td>binary256\n",
    "</td>\n",
    "<td>Óctuple precisión\n",
    "</td>\n",
    "<td align=\"right\">2\n",
    "</td>\n",
    "<td align=\"right\">237\n",
    "</td>\n",
    "<td align=\"right\">71,34\n",
    "</td>\n",
    "<td align=\"right\">19\n",
    "</td>\n",
    "<td align=\"right\">78913,20\n",
    "</td>\n",
    "<td>2<sup>18</sup>−1 = 262143\n",
    "</td>\n",
    "<td align=\"right\">−262142\n",
    "</td>\n",
    "<td align=\"right\">+262143\n",
    "</td>\n",
    "<td>No básico\n",
    "</td></tr>\n",
    "<tr>\n",
    "<td>\n",
    "</td></tr></tbody></table>\n"
   ]
  },
  {
   "cell_type": "code",
   "execution_count": 16,
   "metadata": {},
   "outputs": [],
   "source": [
    "def numberToBinary_ieee_32bits(number):\n",
    "    errorNotNumber(number)\n",
    "    result = \"0\"+\"_\"+\"0\"*8+\"_\"+\"0\"*23\n",
    "    if number==0:\n",
    "        return result\n",
    "    result = \"0_\" if number>0 else \"1_\"\n",
    "    max_power = math.floor(math.log(number)/math.log(2))\n",
    "    M = number/2**max_power\n",
    "    exp = max_power + 127 \n",
    "    mantisa = M - 1\n",
    "    exp_2 = intToBinary(exp)\n",
    "    if len(exp_2) == 8:\n",
    "        result += exp_2 + \"_\"\n",
    "    else:\n",
    "        exp_2 = (8-len(exp_2))*\"0\" + exp_2\n",
    "        result += exp_2 + \"_\"\n",
    "    result += numberToBinary(mantisa,23)[3:]\n",
    "    return result\n",
    "\n",
    "def numberToBinary_ieee_64bits(number):\n",
    "    errorNotNumber(number)\n",
    "    result = \"0\"+\"_\"+\"0\"*11+\"_\"+\"0\"*52\n",
    "    if number==0:\n",
    "        return result\n",
    "    result = \"0_\" if number>0 else \"1_\"\n",
    "    max_power = math.floor(math.log(number)/math.log(2))\n",
    "    M = number/2**max_power\n",
    "    exp = max_power + 1023\n",
    "    mantisa = M - 1\n",
    "    exp_2 = intToBinary(exp)\n",
    "    if len(exp_2) == 11:\n",
    "        result += exp_2 + \"_\"\n",
    "    else:\n",
    "        exp_2 = (11-len(exp_2))*\"0\" + exp_2\n",
    "        result += exp_2 + \"_\"\n",
    "    result += numberToBinary(mantisa,52)[3:]\n",
    "    return result\n",
    "\n",
    "def errorNotIEEE32(x):\n",
    "    if len(x)!=34:\n",
    "        raise ValueError(\"Not Binary IEEE 32bits!\")        \n",
    "        \n",
    "def errorNotIEEE64(x):\n",
    "    if len(x)!=66:\n",
    "        raise ValueError(\"Not Binary IEEE 64bits!\")  \n",
    "        \n",
    "def binaryIEEE32bitsToNumber(binary):\n",
    "    errorNotString(binary) or errorNotIEEE32(binary)\n",
    "    return((-1)**(int(binary[0]))*2**(binaryToInt(binary[2:10])-127)*(1+binaryToFloat(binary[11:])))\n",
    "\n",
    "def binaryIEEE64bitsToNumber(binary):\n",
    "    errorNotString(binary) or errorNotIEEE64(binary)\n",
    "    return((-1)**(int(binary[0]))*2**(binaryToInt(binary[2:13])-1023)*(1+binaryToFloat(binary[14:])))\n",
    "    \n",
    "\n",
    "def error(varTeo,varExp):\n",
    "    err=(varTeo-varExp)\n",
    "    return (abs(err))"
   ]
  },
  {
   "cell_type": "code",
   "execution_count": 17,
   "metadata": {
    "slideshow": {
     "slide_type": "slide"
    }
   },
   "outputs": [
    {
     "name": "stdout",
     "output_type": "stream",
     "text": [
      "La masa de la tierra es: 5.972e+24\n",
      "Y el número en binario en formato ieee 32 bits es: 0_11010001_00111100001001111011000\n",
      "Y el número en binario en formato ieee 64 bits es: 0_10001010001_0011110000100111101100010011001001110010111110110110\n",
      "Y el número (32 bits) de nuevo en decimal es: 5.971999654968933e+24\n",
      "Y el número (32 bits) de nuevo en decimal es: 5.972e+24\n"
     ]
    }
   ],
   "source": [
    "N=5.972e24\n",
    "print(\"La masa de la tierra es:\",N)\n",
    "print(\"Y el número en binario en formato ieee 32 bits es:\",numberToBinary_ieee_32bits(N))\n",
    "print(\"Y el número en binario en formato ieee 64 bits es:\",numberToBinary_ieee_64bits(N))\n",
    "print(\"Y el número (32 bits) de nuevo en decimal es:\",binaryIEEE32bitsToNumber(numberToBinary_ieee_32bits(N)))\n",
    "print(\"Y el número (32 bits) de nuevo en decimal es:\",binaryIEEE64bitsToNumber(numberToBinary_ieee_64bits(N)))"
   ]
  },
  {
   "cell_type": "code",
   "execution_count": 18,
   "metadata": {
    "slideshow": {
     "slide_type": "slide"
    }
   },
   "outputs": [
    {
     "name": "stdout",
     "output_type": "stream",
     "text": [
      "La masa de un electrón es: 9.1e-31\n",
      "Y el número en binario en formato ieee 32 bits es: 0_00011011_00100111010011111101011\n",
      "Y el número en binario en formato ieee 64 bits es: 0_01110011011_0010011101001111110101111001111001011110011011011110\n",
      "Y el número (32 bits) de nuevo en decimal es: 9.099999238924596e-31\n",
      "Y el número (32 bits) de nuevo en decimal es: 9.1e-31\n"
     ]
    }
   ],
   "source": [
    "N=9.1e-31\n",
    "print(\"La masa de un electrón es:\",N)\n",
    "print(\"Y el número en binario en formato ieee 32 bits es:\",numberToBinary_ieee_32bits(N))\n",
    "print(\"Y el número en binario en formato ieee 64 bits es:\",numberToBinary_ieee_64bits(N))\n",
    "print(\"Y el número (32 bits) de nuevo en decimal es:\",binaryIEEE32bitsToNumber(numberToBinary_ieee_32bits(N)))\n",
    "print(\"Y el número (32 bits) de nuevo en decimal es:\",binaryIEEE64bitsToNumber(numberToBinary_ieee_64bits(N)))"
   ]
  },
  {
   "cell_type": "markdown",
   "metadata": {
    "slideshow": {
     "slide_type": "slide"
    }
   },
   "source": [
    "## Ejercicios generales\n",
    "\n",
    "\n",
    "### Escribir el número $\\pi$ en formato binario de 64 bits."
   ]
  },
  {
   "cell_type": "code",
   "execution_count": 19,
   "metadata": {
    "slideshow": {
     "slide_type": "slide"
    }
   },
   "outputs": [
    {
     "name": "stdout",
     "output_type": "stream",
     "text": [
      "La masa de un electrón es: 3.141592653589793\n",
      "Y el número en binario en formato ieee 32 bits es: 0_10000000_10010010000111111011010\n",
      "Y el número en binario en formato ieee 64 bits es: 0_10000000000_1001001000011111101101010100010001000010110100011000\n",
      "Y el número (32 bits) de nuevo en decimal es: 3.141592502593994\n",
      "Y el número (32 bits) de nuevo en decimal es: 3.141592653589793\n"
     ]
    }
   ],
   "source": [
    "N=math.pi\n",
    "print(\"La masa de un electrón es:\",N)\n",
    "print(\"Y el número en binario en formato ieee 32 bits es:\",numberToBinary_ieee_32bits(N))\n",
    "print(\"Y el número en binario en formato ieee 64 bits es:\",numberToBinary_ieee_64bits(N))\n",
    "print(\"Y el número (32 bits) de nuevo en decimal es:\",binaryIEEE32bitsToNumber(numberToBinary_ieee_32bits(N)))\n",
    "print(\"Y el número (32 bits) de nuevo en decimal es:\",binaryIEEE64bitsToNumber(numberToBinary_ieee_64bits(N)))"
   ]
  },
  {
   "cell_type": "markdown",
   "metadata": {
    "slideshow": {
     "slide_type": "slide"
    }
   },
   "source": [
    "### Determinar cuanta memoria RAM se necesita para escribir una matriz de $10^6 × 10^6$ con números de precisión 8 bytes."
   ]
  },
  {
   "cell_type": "code",
   "execution_count": 20,
   "metadata": {
    "slideshow": {
     "slide_type": "skip"
    }
   },
   "outputs": [
    {
     "name": "stdout",
     "output_type": "stream",
     "text": [
      "El total de memoria RAM en Bytes es --> 8e+12\n",
      "El total de memoria RAM en KBytes es --> 7.8125e+09\n",
      "El total de memoria RAM en MBytes es --> 7.62939e+06\n",
      "El total de memoria RAM en GBytes es --> 7450.58\n"
     ]
    }
   ],
   "source": [
    "totalNumbers=10**12\n",
    "sizeNumbers=8 #bytes\n",
    "RamBytes=sizeNumbers*totalNumbers\n",
    "\n",
    "RamKBytes=RamBytes/2**10\n",
    "RamMBytes=RamBytes/2**20\n",
    "RamGBytes=RamBytes/2**30\n",
    "\n",
    "print(\"El total de memoria RAM en Bytes es --> %g\"%RamBytes)\n",
    "print(\"El total de memoria RAM en KBytes es --> %g\"%RamKBytes)\n",
    "print(\"El total de memoria RAM en MBytes es --> %g\"%RamMBytes)\n",
    "print(\"El total de memoria RAM en GBytes es --> %g\"%RamGBytes)"
   ]
  },
  {
   "cell_type": "markdown",
   "metadata": {
    "slideshow": {
     "slide_type": "fragment"
    }
   },
   "source": [
    "### Determinar la capacidad mínima y máxima de una memoria RAM de 2GB"
   ]
  },
  {
   "cell_type": "code",
   "execution_count": 21,
   "metadata": {
    "slideshow": {
     "slide_type": "slide"
    }
   },
   "outputs": [
    {
     "name": "stdout",
     "output_type": "stream",
     "text": [
      "La cantidad de números de menor tamaño (2 bits) que se puede escribir con 2GB RAM es --> 1.073742e+09\n",
      "La cantidad de números de mayor tamaño (16 bytes) que se puede escribir con 2GB RAM es --> 1.677722e+07\n"
     ]
    }
   ],
   "source": [
    "#bits min --> 2  --> 0.25 bytes \n",
    "#bits max --> 128 --> 16 bytes\n",
    "sizeNumbersMin=2 #bytes\n",
    "sizeNumbersMax=128 #bytes\n",
    "RamGBytes=2\n",
    "RamBytes=RamGBytes*2**30\n",
    "\n",
    "totalNumbersMin=RamBytes/sizeNumbersMin\n",
    "totalNumbersMax=RamBytes/sizeNumbersMax\n",
    "\n",
    "print(\"La cantidad de números de menor tamaño (2 bits) que se puede escribir con 2GB RAM es --> %e\"%totalNumbersMin)\n",
    "print(\"La cantidad de números de mayor tamaño (16 bytes) que se puede escribir con 2GB RAM es --> %e\"%totalNumbersMax)"
   ]
  }
 ],
 "metadata": {
  "kernelspec": {
   "display_name": "Python 3",
   "language": "python",
   "name": "python3"
  },
  "language_info": {
   "codemirror_mode": {
    "name": "ipython",
    "version": 3
   },
   "file_extension": ".py",
   "mimetype": "text/x-python",
   "name": "python",
   "nbconvert_exporter": "python",
   "pygments_lexer": "ipython3",
   "version": "3.7.3"
  },
  "latex_envs": {
   "LaTeX_envs_menu_present": true,
   "autoclose": false,
   "autocomplete": true,
   "bibliofile": "biblio.bib",
   "cite_by": "apalike",
   "current_citInitial": 1,
   "eqLabelWithNumbers": true,
   "eqNumInitial": 1,
   "hotkeys": {
    "equation": "Ctrl-E",
    "itemize": "Ctrl-I"
   },
   "labels_anchors": false,
   "latex_user_defs": false,
   "report_style_numbering": false,
   "user_envs_cfg": false
  },
  "toc": {
   "base_numbering": 1,
   "nav_menu": {
    "height": "380px",
    "width": "617px"
   },
   "number_sections": true,
   "sideBar": true,
   "skip_h1_title": true,
   "title_cell": "Table of Contents",
   "title_sidebar": "Contents",
   "toc_cell": false,
   "toc_position": {
    "height": "calc(100% - 180px)",
    "left": "10px",
    "top": "150px",
    "width": "190.188px"
   },
   "toc_section_display": true,
   "toc_window_display": false
  }
 },
 "nbformat": 4,
 "nbformat_minor": 2
}
